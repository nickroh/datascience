{
  "nbformat": 4,
  "nbformat_minor": 0,
  "metadata": {
    "colab": {
      "name": "5/18과제.ipynb",
      "provenance": [],
      "collapsed_sections": [],
      "authorship_tag": "ABX9TyMctCWFw0SYpFclTnzoV6PA",
      "include_colab_link": true
    },
    "kernelspec": {
      "name": "python3",
      "display_name": "Python 3"
    }
  },
  "cells": [
    {
      "cell_type": "markdown",
      "metadata": {
        "id": "view-in-github",
        "colab_type": "text"
      },
      "source": [
        "<a href=\"https://colab.research.google.com/github/nickroh/datascience/blob/master/5_18%EA%B3%BC%EC%A0%9C.ipynb\" target=\"_parent\"><img src=\"https://colab.research.google.com/assets/colab-badge.svg\" alt=\"Open In Colab\"/></a>"
      ]
    },
    {
      "cell_type": "code",
      "metadata": {
        "id": "nCoVXqD6sHMT",
        "colab_type": "code",
        "outputId": "f9500865-dc76-4878-ed6c-c0e9b35d0e3a",
        "colab": {
          "base_uri": "https://localhost:8080/",
          "height": 87
        }
      },
      "source": [
        "import numpy as np\n",
        "import matplotlib.pyplot as plt\n",
        "%matplotlib inline\n",
        "\n",
        "\n",
        "arr=np.array([[2,3,1],[4,5,8]])\n",
        "arr2=np.array([[1],[2],[3]])\n",
        "\n",
        "result=arr.dot(arr2)\n",
        "\n",
        "print(result)\n",
        "\n",
        "w=0\n",
        "a=0.5\n",
        "\n",
        "for i in range(4):\n",
        "  dw = w -1\n",
        "  w = w - a*dw\n",
        "  \n",
        "print(w)\n",
        "\n",
        "x = np.array([1,2,3])\n",
        "w = 5\n",
        "H = sum(w*x)/len(x)\n",
        "print(x.shape)"
      ],
      "execution_count": 1,
      "outputs": [
        {
          "output_type": "stream",
          "text": [
            "[[11]\n",
            " [38]]\n",
            "0.9375\n",
            "(3,)\n"
          ],
          "name": "stdout"
        }
      ]
    },
    {
      "cell_type": "code",
      "metadata": {
        "id": "yQ0Xi3MkP9Zh",
        "colab_type": "code",
        "colab": {
          "base_uri": "https://localhost:8080/",
          "height": 862
        },
        "outputId": "c275f4ae-b528-4a15-ad7a-3c3673ba436f"
      },
      "source": [
        "import numpy as np\n",
        "X = np.array([[30,10,5,1],[20,20,10,1],[40,30,15,1]])\n",
        "t = np.array([6.1, 3.1, 6.8]).reshape(3,1)\n",
        "W = np.array([1, 0, 0, 0]).reshape(4,1) #초기 매개변수\n",
        "print(X.T)\n",
        "print(t.shape)\n",
        "print(W)\n",
        "a = 0.0001 # 학습률\n",
        "Y = np.dot(X,W)\n",
        "print(Y)\n",
        "print(Y-t)\n",
        "print(t.shape[0])\n",
        "for k in range(3000):\n",
        "  dW = 2*(np.dot(X.T,(Y-t)))/t.shape[0] #그래디언트 ---- 채우시오\n",
        "  W = W - a*dW #행렬의 뺄셈을 이용하여 한꺼번에 처리\n",
        "  J = np.dot((Y-t),(Y-t).T)/Y.shape[1] #전치행렬 이용하여 제곱처리\n",
        "  Y = np.dot( X,W)\n",
        "  if k % 100 == 0:\n",
        "    #print(W) # 매개변수의 변화 관찰\n",
        "    print('Iteration:', k, 'MSE:', J[0,0])\n",
        "\n",
        "print('')\n",
        "X_test = np.array([[25], [20], [10],[1]]).T # 25평, 20분 거리, 10년 된 건물\n",
        "print(\"Price Prediction:\", (np.dot(X_test, W))) #학습된 모델 이용 예측\n",
        "print(W)"
      ],
      "execution_count": 2,
      "outputs": [
        {
          "output_type": "stream",
          "text": [
            "[[30 20 40]\n",
            " [10 20 30]\n",
            " [ 5 10 15]\n",
            " [ 1  1  1]]\n",
            "(3, 1)\n",
            "[[1]\n",
            " [0]\n",
            " [0]\n",
            " [0]]\n",
            "[[30]\n",
            " [20]\n",
            " [40]]\n",
            "[[23.9]\n",
            " [16.9]\n",
            " [33.2]]\n",
            "3\n",
            "Iteration: 0 MSE: 571.2099999999999\n",
            "Iteration: 100 MSE: 2.776131261173772\n",
            "Iteration: 200 MSE: 0.5053855808392163\n",
            "Iteration: 300 MSE: 0.0871896281178584\n",
            "Iteration: 400 MSE: 0.013100062566391036\n",
            "Iteration: 500 MSE: 0.0012813887742631782\n",
            "Iteration: 600 MSE: 2.5280361301538413e-06\n",
            "Iteration: 700 MSE: 0.0001762235493043537\n",
            "Iteration: 800 MSE: 0.0003890425509076042\n",
            "Iteration: 900 MSE: 0.0005067768749041944\n",
            "Iteration: 1000 MSE: 0.000561976373197985\n",
            "Iteration: 1100 MSE: 0.00058598774345318\n",
            "Iteration: 1200 MSE: 0.0005956888412073719\n",
            "Iteration: 1300 MSE: 0.0005990301489382117\n",
            "Iteration: 1400 MSE: 0.0005995831018560309\n",
            "Iteration: 1500 MSE: 0.0005989216833035833\n",
            "Iteration: 1600 MSE: 0.0005977340113705377\n",
            "Iteration: 1700 MSE: 0.0005963198786929888\n",
            "Iteration: 1800 MSE: 0.0005948096973087957\n",
            "Iteration: 1900 MSE: 0.0005932601570011398\n",
            "Iteration: 2000 MSE: 0.0005916958901312916\n",
            "Iteration: 2100 MSE: 0.000590127594854647\n",
            "Iteration: 2200 MSE: 0.0005885599137085596\n",
            "Iteration: 2300 MSE: 0.0005869948577517815\n",
            "Iteration: 2400 MSE: 0.0005854332945778918\n",
            "Iteration: 2500 MSE: 0.00058387559492302\n",
            "Iteration: 2600 MSE: 0.0005823219136405364\n",
            "Iteration: 2700 MSE: 0.0005807723117926057\n",
            "Iteration: 2800 MSE: 0.0005792268097032838\n",
            "Iteration: 2900 MSE: 0.0005776854100109674\n",
            "\n",
            "Price Prediction: [[4.1806043]]\n"
          ],
          "name": "stdout"
        }
      ]
    }
  ]
}