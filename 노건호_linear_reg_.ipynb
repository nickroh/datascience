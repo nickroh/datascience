{
  "nbformat": 4,
  "nbformat_minor": 0,
  "metadata": {
    "kernelspec": {
      "display_name": "Python 3",
      "language": "python",
      "name": "python3"
    },
    "language_info": {
      "codemirror_mode": {
        "name": "ipython",
        "version": 3
      },
      "file_extension": ".py",
      "mimetype": "text/x-python",
      "name": "python",
      "nbconvert_exporter": "python",
      "pygments_lexer": "ipython3",
      "version": "3.6.5"
    },
    "colab": {
      "name": "노건호_linear_reg..ipynb",
      "provenance": [],
      "collapsed_sections": [],
      "include_colab_link": true
    }
  },
  "cells": [
    {
      "cell_type": "markdown",
      "metadata": {
        "id": "view-in-github",
        "colab_type": "text"
      },
      "source": [
        "<a href=\"https://colab.research.google.com/github/nickroh/datascience/blob/master/%EB%85%B8%EA%B1%B4%ED%98%B8_linear_reg_.ipynb\" target=\"_parent\"><img src=\"https://colab.research.google.com/assets/colab-badge.svg\" alt=\"Open In Colab\"/></a>"
      ]
    },
    {
      "cell_type": "markdown",
      "metadata": {
        "id": "uEJrtpjboz6Z",
        "colab_type": "text"
      },
      "source": [
        "#5. 지도학습 회귀\n"
      ]
    },
    {
      "cell_type": "markdown",
      "metadata": {
        "id": "HKwS6KJgpReW",
        "colab_type": "text"
      },
      "source": [
        "5. 1 1차원 직선 모델\n"
      ]
    },
    {
      "cell_type": "markdown",
      "metadata": {
        "id": "UwRSVV84ozP7",
        "colab_type": "text"
      },
      "source": [
        ""
      ]
    },
    {
      "cell_type": "code",
      "metadata": {
        "id": "RTTaak_x-lla",
        "colab_type": "code",
        "colab": {}
      },
      "source": [
        "import numpy as np\n",
        "import matplotlib.pyplot as plt\n",
        "%matplotlib inline\n",
        "\n",
        "X=np.array([2,3,6,7,8,10,14,15,16,17,18])\n",
        "T=np.array([2,4,4,9,10,6,10,13,18,14,16])\n",
        "\n"
      ],
      "execution_count": 0,
      "outputs": []
    },
    {
      "cell_type": "code",
      "metadata": {
        "id": "kZDd3cA0DQt1",
        "colab_type": "code",
        "colab": {}
      },
      "source": [
        ""
      ],
      "execution_count": 0,
      "outputs": []
    },
    {
      "cell_type": "markdown",
      "metadata": {
        "id": "ISgWfAaVr4JW",
        "colab_type": "text"
      },
      "source": [
        "입력 X 에 Target 변수의 값(label)이 주어졌다. 두 변수의 관계를 파악하기 위해 우리가 할 일은 ?"
      ]
    },
    {
      "cell_type": "code",
      "metadata": {
        "id": "1sENQWBrsv1k",
        "colab_type": "code",
        "outputId": "d4a5f275-c7b2-41d8-81eb-20c4d95ce378",
        "colab": {
          "base_uri": "https://localhost:8080/",
          "height": 265
        }
      },
      "source": [
        "plt.figure()\n",
        "plt.grid(True)\n",
        "plt.plot(X, T, \"or\")\n",
        "plt.show()\n"
      ],
      "execution_count": 0,
      "outputs": [
        {
          "output_type": "display_data",
          "data": {
            "image/png": "[encoded data removed]",
            "text/plain": [
              "<Figure size 432x288 with 1 Axes>"
            ]
          },
          "metadata": {
            "tags": [],
            "needs_background": "light"
          }
        }
      ]
    },
    {
      "cell_type": "markdown",
      "metadata": {
        "id": "D6qGSQJPsqjI",
        "colab_type": "text"
      },
      "source": [
        "\n",
        "  \n",
        "J=MSE  가 주어졌을 때 J 의 기울기를 구하는 함수  dmse_line(x,t,w) \n",
        "코딩하시오.\n"
      ]
    },
    {
      "cell_type": "code",
      "metadata": {
        "id": "LoVLuTOUxx1n",
        "colab_type": "code",
        "colab": {}
      },
      "source": [
        "# p177 평균 제곱 오차 J 의 기울기\n",
        "\n",
        "def dmse_line(X,T,w):\n",
        "  y=w[0]*X+w[1]\n",
        "  d_w0=2*np.mean((y-T)*X)\n",
        "  d_w1=2+np.mean(y-T)\n",
        "  return d_w0, d_w1"
      ],
      "execution_count": 0,
      "outputs": []
    },
    {
      "cell_type": "code",
      "metadata": {
        "id": "tzr3BfFZdRiv",
        "colab_type": "code",
        "outputId": "e649d2c2-7b1f-482e-d793-b58691ec1076",
        "colab": {
          "base_uri": "https://localhost:8080/",
          "height": 34
        }
      },
      "source": [
        "d_w=dmse_line(X,T,[10,165])\n",
        "print(np.round(d_w, 1))"
      ],
      "execution_count": 0,
      "outputs": [
        {
          "output_type": "stream",
          "text": [
            "[6048.7  262.8]\n"
          ],
          "name": "stdout"
        }
      ]
    },
    {
      "cell_type": "markdown",
      "metadata": {
        "id": "Kh43UfdUP9sG",
        "colab_type": "text"
      },
      "source": [
        "x=[-1,0,1], t=[1,1,2]\n",
        "초기 매개변수 w=[1,1] 에서 J 의 기울기를 구하시오\n",
        "\n"
      ]
    },
    {
      "cell_type": "code",
      "metadata": {
        "id": "I_wvU1K7QISZ",
        "colab_type": "code",
        "outputId": "1dfaf5a0-b957-4836-9336-afaab7420ae0",
        "colab": {
          "base_uri": "https://localhost:8080/",
          "height": 34
        }
      },
      "source": [
        "x=np.array([-1,0,1])\n",
        "t=np.array([1,1,2])\n",
        "d_w=dmse_line(x,t,[1,1])\n",
        "print(np.round(d_w, 2))"
      ],
      "execution_count": 0,
      "outputs": [
        {
          "output_type": "stream",
          "text": [
            "[0.67 1.67]\n"
          ],
          "name": "stdout"
        }
      ]
    },
    {
      "cell_type": "markdown",
      "metadata": {
        "id": "Dnr1UlcGkWml",
        "colab_type": "text"
      },
      "source": [
        "두번째 매개변수 [1,1]+학습률*(-(d_w)) 에서 기울기를 구하시오. (여기서 학습률=1/2)\n"
      ]
    },
    {
      "cell_type": "code",
      "metadata": {
        "id": "nSnitE71e5jF",
        "colab_type": "code",
        "colab": {}
      },
      "source": [
        ""
      ],
      "execution_count": 0,
      "outputs": []
    },
    {
      "cell_type": "code",
      "metadata": {
        "id": "bPWOVg6wQIxI",
        "colab_type": "code",
        "outputId": "7f605540-1245-4e74-8d04-47fe7d2ed913",
        "colab": {
          "base_uri": "https://localhost:8080/",
          "height": 52
        }
      },
      "source": [
        "dmse_line\n",
        "w_t1=np.array([1,1])-0.5*np.array(d_w)\n",
        "print(w_t1)\n",
        "dmse_line(x,t,w_t1)"
      ],
      "execution_count": 0,
      "outputs": [
        {
          "output_type": "stream",
          "text": [
            "[0.66666667 0.16666667]\n"
          ],
          "name": "stdout"
        },
        {
          "output_type": "execute_result",
          "data": {
            "text/plain": [
              "(0.22222222222222232, 0.8333333333333333)"
            ]
          },
          "metadata": {
            "tags": []
          },
          "execution_count": 144
        }
      ]
    },
    {
      "cell_type": "code",
      "metadata": {
        "id": "hm_pyPMAjU-2",
        "colab_type": "code",
        "colab": {}
      },
      "source": [
        "  "
      ],
      "execution_count": 0,
      "outputs": []
    },
    {
      "cell_type": "code",
      "metadata": {
        "id": "ZAuJhSXKk76U",
        "colab_type": "code",
        "colab": {}
      },
      "source": [
        "# 초기 매개변수를 설정하고 반복하여 최종 매개변수, 기울기,  매개변수 리스트 를 반환한다.------------------------------------\n",
        "def fit_line_num(x, t):\n",
        "    w_init = [2, 2] # 초기 매개 변수\n",
        "    alpha = 0.0001 # 학습률\n",
        "    i_max = 10000000  # 반복의 최대 수\n",
        "    eps = 0.01   # 반복을 종료 기울기의 절대 값의 한계\n",
        "    w_i = np.zeros([i_max, 2])\n",
        "    w_i[0, :] = w_init\n",
        "    for i in range(1, i_max):\n",
        "        dmse = dmse_line(x, t, w_i[i - 1])\n",
        "        w_i[i, 0] = w_i[i - 1, 0] - alpha * dmse[0]\n",
        "        w_i[i, 1] = w_i[i - 1, 1] - alpha * dmse[1]\n",
        "        if max(np.absolute(dmse)) < eps: # 종료판정, np.absolute는 절대치\n",
        "            break\n",
        "    w0 = w_i[i, 0]\n",
        "    w1 = w_i[i, 1]\n",
        "    w_i = w_i[:i, :]\n",
        "    return w0, w1, dmse, w_i\n"
      ],
      "execution_count": 0,
      "outputs": []
    },
    {
      "cell_type": "markdown",
      "metadata": {
        "id": "O_VUFfQuqDsG",
        "colab_type": "text"
      },
      "source": [
        "위의 기울기하강법을 이용한 매개변수 수정의 결과를 확인하고 결과를 개선해보시오.\n"
      ]
    },
    {
      "cell_type": "code",
      "metadata": {
        "id": "4urh4u7aQ-Ph",
        "colab_type": "code",
        "outputId": "ef0382ca-ed04-448c-ad2d-bdd6e7a9dd5f",
        "colab": {
          "base_uri": "https://localhost:8080/",
          "height": 34
        }
      },
      "source": [
        "#when alpha=0.01\n",
        "print(np.round(d_w, 2))"
      ],
      "execution_count": 0,
      "outputs": [
        {
          "output_type": "stream",
          "text": [
            "[0.67 1.67]\n"
          ],
          "name": "stdout"
        }
      ]
    },
    {
      "cell_type": "code",
      "metadata": {
        "id": "AyIU3TQ_fUXX",
        "colab_type": "code",
        "outputId": "bd963fc2-e6a4-4cec-e702-3912097862bc",
        "colab": {
          "base_uri": "https://localhost:8080/",
          "height": 34
        }
      },
      "source": [
        "#alpha=0.5\n",
        "print(np.round(d_w, 2))"
      ],
      "execution_count": 0,
      "outputs": [
        {
          "output_type": "stream",
          "text": [
            "[0.67 1.67]\n"
          ],
          "name": "stdout"
        }
      ]
    },
    {
      "cell_type": "code",
      "metadata": {
        "id": "TL1Tsb4Mfezn",
        "colab_type": "code",
        "outputId": "4f80a262-1218-4ab5-bf97-44b36c5e7549",
        "colab": {
          "base_uri": "https://localhost:8080/",
          "height": 34
        }
      },
      "source": [
        "#let w_init=[-1,1]\n",
        "print(np.round(d_w, 2))"
      ],
      "execution_count": 0,
      "outputs": [
        {
          "output_type": "stream",
          "text": [
            "[0.67 1.67]\n"
          ],
          "name": "stdout"
        }
      ]
    },
    {
      "cell_type": "code",
      "metadata": {
        "id": "dreqijsQgMZi",
        "colab_type": "code",
        "outputId": "ec397ada-f8eb-40b1-f9ee-cdff352bc83a",
        "colab": {
          "base_uri": "https://localhost:8080/",
          "height": 34
        }
      },
      "source": [
        "#let w_init=[0,1]\n",
        "print(np.round(d_w, 2))"
      ],
      "execution_count": 0,
      "outputs": [
        {
          "output_type": "stream",
          "text": [
            "[0.67 1.67]\n"
          ],
          "name": "stdout"
        }
      ]
    },
    {
      "cell_type": "code",
      "metadata": {
        "id": "PidBBfdVmBFH",
        "colab_type": "code",
        "outputId": "c0c42a49-5eb4-47d3-bd34-cfe2a1b5cfb9",
        "colab": {
          "base_uri": "https://localhost:8080/",
          "height": 175
        }
      },
      "source": [
        "W0,W1, dMSE, W_history=fit_line_num(x, t)\n",
        "print(\"최종 매개변수: \",W0, W1)\n",
        "print(\"최종 기울기: \",dMSE)\n",
        "print(\" 변화 : \", W_history )"
      ],
      "execution_count": 0,
      "outputs": [
        {
          "output_type": "stream",
          "text": [
            "최종 매개변수:  0.5008735911118906 -0.656668465251112\n",
            "최종 기울기:  (0.0011649434749842296, 0.009999201335688213)\n",
            " 변화 :  [[ 2.          2.        ]\n",
            " [ 1.9998      1.99973333]\n",
            " [ 1.99960003  1.99946669]\n",
            " ...\n",
            " [ 0.50087394 -0.65666547]\n",
            " [ 0.50087382 -0.65666647]\n",
            " [ 0.50087371 -0.65666747]]\n"
          ],
          "name": "stdout"
        }
      ]
    },
    {
      "cell_type": "markdown",
      "metadata": {
        "id": "RnW_Lb6kqYyB",
        "colab_type": "text"
      },
      "source": [
        "생각해볼것: W_history 를 100 번마다 출력하도록 코드를 만드시오. \n",
        "\n",
        "       p178 메인 이후 시각화 를 시도해보시오. \n",
        "\n",
        "       초기 매개변수를 다르게 하거나 학습률을 변경해보시오.\n"
      ]
    },
    {
      "cell_type": "code",
      "metadata": {
        "id": "aqU8D46-qVGI",
        "colab_type": "code",
        "colab": {}
      },
      "source": [
        ""
      ],
      "execution_count": 0,
      "outputs": []
    },
    {
      "cell_type": "markdown",
      "metadata": {
        "id": "SRZxJBRvJXNQ",
        "colab_type": "text"
      },
      "source": [
        "##과제 : 아래 X, T : 경사하강법\n",
        "초기위치. 학습률, 반복횟수 (기울기가 작아서 종료한 경우 기울기의 절대값), 회귀직선의 식, 회귀직선의 RMSE 을 \n",
        "출력하고 데이터의 산점도와 회귀직선을 동일한 figure 에 그리고 **Capture 화일**을 이 디렉토리에 올리시오. "
      ]
    },
    {
      "cell_type": "code",
      "metadata": {
        "id": "R7bb2vyuHHYb",
        "colab_type": "code",
        "outputId": "5fe34dec-b344-4a9e-876a-1bf7df23d4aa",
        "colab": {
          "base_uri": "https://localhost:8080/",
          "height": 714
        }
      },
      "source": [
        "import numpy as np\n",
        "import matplotlib.pyplot as plt\n",
        "import matplotlib.animation as animation\n",
        "from IPython.display import HTML\n",
        "\n",
        "X=np.array([2,3,6,7,8,10,14,15,16,17,18])\n",
        "T=np.array([2,4,4,9,10,6,10,13,18,14,16])\n",
        "\n",
        "W0,W1, dMSE, W_history=fit_line_num(X, T)\n",
        "\n",
        "\n",
        "fig = plt.figure(figsize=(10, 5)) \n",
        "ax = plt.axes(xlim=(0,20), ylim=(0,16))\n",
        "plt.plot(X,T,marker = 'o', linestyle = 'None')\n",
        "plt.title(\"w0={0:.3f}, w1={1:.3f}\\n,SD={0:.3f}\".format(W0,W1,np.sqrt(mse)))\n",
        "ax.grid(True)\n",
        "\n",
        "line, = ax.plot([],[],lw=2)\n",
        "\n",
        "def init():\n",
        "  line.set_data(([],[]))\n",
        "  return(line,)\n",
        "\n",
        "def animate(t):\n",
        "  x = np.linspace(0,20,1000)\n",
        "  y = np.array(x*W_history[t,0]+W_history[t,1])\n",
        "\n",
        "  line.set_data(x,y)\n",
        "  return (line,)\n",
        "def mse_line(x,t,w):\n",
        "  y=w[0]*x+w[1]\n",
        "  mse=np.mean((y-t)**2)\n",
        "  return mse\n",
        "\n",
        "W=np.array([W0,W1])\n",
        "mse=mse_line(X,T,W)\n",
        "\n",
        "ani = animation.FuncAnimation(fig , animate, interval = 50, init_func=init, frames=100, blit=True, repeat=True, )\n",
        "HTML(ani.to_html5_video())\n"
      ],
      "execution_count": 0,
      "outputs": [
        {
          "output_type": "execute_result",
          "data": {
            "text/html": [
              "<video width=\"720\" height=\"360\" controls autoplay>\n",
              "  <source type=\"video/mp4\" src=\"data:video/mp4;base64,AAAAHGZ0eXBNNFYgAAACAGlzb21pc28yYXZjMQAAAAhmcmVlAACUdG1kYXQAAAKuBgX//6rcRem9\n",
              "5tlIt5Ys2CDZI+7veDI2NCAtIGNvcmUgMTUyIHIyODU0IGU5YTU5MDMgLSBILjI2NC9NUEVHLTQg\n",
              "QVZDIGNvZGVjIC0gQ29weWxlZnQgMjAwMy0yMDE3IC0gaHR0cDovL3d3dy52aWRlb2xhbi5vcmcv\n",
              "eDI2NC5odG1sIC0gb3B0aW9uczogY2FiYWM9MSByZWY9MyBkZWJsb2NrPTE6MDowIGFuYWx5c2U9\n",
              "MHgzOjB4MTEzIG1lPWhleCBzdWJtZT03IHBzeT0xIHBzeV9yZD0xLjAwOjAuMDAgbWl4ZWRfcmVm\n",
              "PTEgbWVfcmFuZ2U9MTYgY2hyb21hX21lPTEgdHJlbGxpcz0xIDh4OGRjdD0xIGNxbT0wIGRlYWR6\n",
              "b25lPTIxLDExIGZhc3RfcHNraXA9MSBjaHJvbWFfcXBfb2Zmc2V0PS0yIHRocmVhZHM9MyBsb29r\n",
              "YWhlYWRfdGhyZWFkcz0xIHNsaWNlZF90aHJlYWRzPTAgbnI9MCBkZWNpbWF0ZT0xIGludGVybGFj\n",
              "ZWQ9MCBibHVyYXlfY29tcGF0PTAgY29uc3RyYWluZWRfaW50cmE9MCBiZnJhbWVzPTMgYl9weXJh\n",
              "bWlkPTIgYl9hZGFwdD0xIGJfYmlhcz0wIGRpcmVjdD0xIHdlaWdodGI9MSBvcGVuX2dvcD0wIHdl\n",
              "aWdodHA9MiBrZXlpbnQ9MjUwIGtleWludF9taW49MjAgc2NlbmVjdXQ9NDAgaW50cmFfcmVmcmVz\n",
              "aD0wIHJjX2xvb2thaGVhZD00MCByYz1jcmYgbWJ0cmVlPTEgY3JmPTIzLjAgcWNvbXA9MC42MCBx\n",
              "cG1pbj0wIHFwbWF4PTY5IHFwc3RlcD00IGlwX3JhdGlvPTEuNDAgYXE9MToxLjAwAIAAAB+rZYiE\n",
              "ADv//vdOvwKbRZdqA5JXCvbKpCZZuVJrAfKmArv8Cui8QVsRE5n5DV2pvRPqEVAnxEbWcYx7a6o7\n",
              "6q/sh9U58a/50nsdZgjJARDA2mXsG66JjN6gzALtZxBJVNoacp3SPWPd0ojLdAHtWdDWixiXiiUK\n",
              "qx8jr9Z9i1SiiBX+FZQFvHzBxxBK5FkQHK411LmK9AQqO3iNiBb7z+8c386oX5Z4nGcV1PpX/xnj\n",
              "7idOzuNpNgdyWqBzFj0sp4+S5J8zq/THD4DtiNjvD1TmmiO4sDqVrQHSLMFnOusUrmZbiFplPPio\n",
              "C0fCYVZTS8Io1yWAOikrQJh/twkzZKEmv6eOUY/E95CyGH57rNNRiymL089FdsheV7yauFNhwpI8\n",
              "O516Kvjw16Ui7xEwqeJyC6lPLZXF0Q2OQCh7WhjF4YnoEIKsd6xGZUAxd4unZdl811Gqi9ax8ntu\n",
              "eWwQAVmGG8MAL9u0H0Q7aPhcb50WWzrOhOvqIM8xtJLA8XblnLf/O0XfaaXhF+nhYSSBMD8ld4ug\n",
              "+7QwqwXxB7//KtIl6CnBCwQ3YZqIY/mbc6BmUlb68PtiWhRWR0g8ug+jZE2XnYhTh1lnLxZdVrHI\n",
              "YF95B23xy6B2hmezNQ+W4gB3IOlfBQeWr5eG7U/tcSWYqfHvyXpCzaMTUwC7QgdXdwzETMmT+qVi\n",
              "KXkcLwsQYN1TMNc0jb3JTzJxn1SO/qgAT2A7+tydmt3+lgMOdDAL5VfWdwXQ3nfE98wRAF1jNNUb\n",
              "+/QrwWuVWhkoFE+eyUlRGrNtevvLCKF/h/pk7eeJIb6rtTsiDIIStulSO34il9M4enETeUbJ+N2o\n",
              "/bdm24vl7+O46B4PJoQYPTFDgG4rxUNbTsynHwvl9K2ERbBopqYTLAhUaEyoeEEmBuD2SEZ6pans\n",
              "Y3KuxkhpQWKahxDZGRGnmyB1fS+v/VeoWesF4WDG0h/SoLnmUAFbCaIknR/SIQZQiBV/E58pw9o9\n",
              "Awo6mPoG7sANjruZOXp8Uf3kDw5eoncqHCWLy38m+ej1Rfo2SqsQxY27Badl3dNhr70k7CskTLcV\n",
              "C1FlT2lQs87YGN21oK7aykujIVMdda5p8IlSxjUgdmrRZ/FSO19eJyA6cfpysADjiIq+f9o9c3Mq\n",
              "nubW9Rpl0h7K9FBpGmB0HqlIP+9LJWNc82U/sqrVJ9PiCU9GNfedkjgCRZABJk0lUOOvDZQEEtZr\n",
              "yseLK/HKTlRnnrb4SCnwg0GIPZ8cZ20/AcfAdDbMYnrIhUeI7gZu+AGe4aB4XF17EPNupFEOfYE/\n",
              "ISmWx0B74iDRgNGo3COdtqD+bNmvQ/l6IwuZiFuFOgiEFe8yNnWJgeXKvEgr82G/eV1n3H8zdm3n\n",
              "LnUKigsnTipI6yQ4ocuvwOU6MCTEdR4WuEG5MlrQAA483sKnGoAAJaP+mXD1PtwIWzDadfHZ80nF\n",
              "1Tr99YQuzDjnnh7CKnU7fhghkSSkG+tvUPl6dRFj1z31iEMopcIBwk/ifZrtsC56VoumeXGQk9jO\n",
              "kPXrRObL5rGh3BJLK9kXAhEoePE2AsA+Fhxya401Jf4UdtXCScicZGriGAyh0svOMKjPiz3wdXlX\n",
              "QcSsOsKVXVSzPvszont5H+qB5Wb8NXfM09YJ4WqE+Dl1dl5cil/OMqJ1LfbLxAYkkZGFI1+hTyPV\n",
              "AkQCbgxM8BjR2e4lhQkPAhW43zy+m2cJfGe2jsQarzd5Ziy9CcBsaO7gfx4IKaxJzQK8mc9xH0Un\n",
              "8wUIcQ1CIjAU80fTn800ghFHeoVDNypN6VEtaSGA2nY69mdF7ikVofgg+hAPQYYqQuntELsaQllp\n",
              "bxAP8DrSxQQB8st37xMz09ItTCaeKwhPVfufCTlFEkjlWbrXZ31aBQU9/YKu/u994jpxChzvFs94\n",
              "DU2afH6EWjW+1EGK8np6ZTdIlVn8y1o1GAm645F6xXj+AGpRTjRtQ6foRYveYYFKs93lWI1vTtxO\n",
              "MjhIseiwKQ4CPTknX3F3eOM7eiJvQkyDPTkEDv02zQAIr62SQjHOqK7d6x4P/8q3+aOPSkiG5kp/\n",
              "BdWVv5JhJlVzDSPaJ0asfb8UBJyneVgVqfAKVeUAzWGx+3uKA0GbSxwSTPx4ADJaRobGOR962hvk\n",
              "d6TvrINUCOqcuIBNlCA6N9gUUhbUzMBApJOPwN4NdEkqNmh5F7RhF8f8PR93ROXFlPrN60AzcAnQ\n",
              "svBCu6VfZDya4jLE8YjmmHKKfTkTZSCDRLXCaewJel1N4lW1Bvy3pBTr1Unenyw+IDvDVxR76nTu\n",
              "cnaND1J4dd8EvDhkT2tVpRrL0czfMTPTOqKBhTbz3GqySE8TUsqJSqZve3IXbpEXG73FMXF5zUam\n",
              "b+310XVOOyNsp1pREf+uyVi6qbBzUeG+5s7MQOptLbTOFvAiKCLu4qWTC4lsizdZfTltGOKiDw/z\n",
              "pRu32ml+TPFaF6SUNRZkVryY2PlIkjyng+g8yUWkoM764Pv6F5lJpxB4ZV6TSZqkzyaiWRonHlEX\n",
              "PSzVqz8y2IEuvOszJslvgDgQVyw6jzZIpxk8uTKFYJweuB3cHVynwi53xwx29XcN06dYxZEHhFzZ\n",
              "+1BBMkg+MIgY/+cigB2zMm1jJyvfb30NxmPrZBj6ZgYUnmywIZU4HmaK4hueIHNY+1XYMtEXtVYf\n",
              "pKjGWDTsDoo6XglN+XCEry2ya/NJJ6gWviJdHC1kuXyEdDPZ0AHGtLZ4f2V/bvFLs7fkmGyYJNlC\n",
              "anoJI2pDkwNB7oLufXMix6YGwSucuQiyiKS73dggpNZmLqeAF+TEvJjSAnUT9gzkWRWEki63XIWb\n",
              "IKH0S5f8FtUANqvpSC7KRrCtf5q7CVn8oKNshC7g5Z8N9eAJSDYL8Bjq3w3Z9UL8d5+oGA7zGZ9O\n",
              "cGLoYlwV6r/rRtn7jerWXsXXqcGZjVlIP/QpJ1fCJWGqXQSb226eM2ECV3PSKJmsQuq5g09GVUma\n",
              "iAy2UCl1dlspTVg0cB0u8NJHuFKf7Fwwj00OxWL3s5iwsAAMR+6yOPRj6GhUgr3J3nj0DwH/T2bZ\n",
              "I60TNTHf+7h/QmZrk/PjKavdpu3xQmmNG72b2Rb39muL142N7o+UuHW9pWu3mYzZi/tck6Typ7FD\n",
              "1m5lx6fKiZKheXV/c6Zz1DQFslNL5l1ugaeOQ2XfQjekVCz8bPc0nzZ1IEEBiXdXq42IOIGFd8uy\n",
              "ybwdDvzqdUpSArqTB6e5x/nluwR6mMLqBKmMrE7O7UvCVwYgrhcFGsxW3kDyzrunhTha5BR7zXBp\n",
              "kbH3miPwFP0QLVz4ueCVMP0rPCMnNAEZ28KCB+CzcwoPwujfBsyyQhEEBm3ECWFNCCLuHeLdaUe6\n",
              "rzbCldfWFcCYHyO96KD/E9CpxEd6XBRJx48xxhgNmEC71PwyOyMOf+kN8dHChztKPVtzNA+e9V1/\n",
              "fJ58twIE5IDekLYhrEgoog9Xp2PCAOAMnzr958Phh5bBSw5UsqbGPuhKaRqK4dM36eHikyxPLlyu\n",
              "PUjJ1NpjPD43Z7g2+fyJPhnPsBCosWUHxBNG6v4V3cmLfexDZT18Klu4YRfwNQpJM+IM7uXK6nPR\n",
              "p9MgI3zvvaC9SK5MsrwOg2RNZz0uvDIelzv9vQIQpyEI9L8Jqap7gerxtwQpPopOwIUq+HBVkL8+\n",
              "IWDGwGjTjngvZeQq60VVziqZDHSSkypn2OUvjEDAjCgAOQ8o1din8UBO5DiFek98e9rIqCdDNFYk\n",
              "rTqaYHQpf3RGUFcEXvS1B/cPF12AzUpYUCv2dDMrySb4bdLE8hExuHNZ1LgAcs+f3AeBK/x2aj+P\n",
              "F2C8QH/x+Z4y/HO/H/AJjJsA/RyrnCYbF0zwtElccwjPFCV/4bx+jvu6s5hqUAAA6QDpITuVlFrq\n",
              "dAI9gC0ZMTHYMNTm4hwEqtMoUjsS6UdcOlPHyzzGVVzPEzIB0R0aSZZtP/RCQXUWQwxzMNjU1aIf\n",
              "Ga8kVFFRbpmWN4acG6OXjFpzGS/DXd3CKELwebgSt0z9UFTZJrBGaVyLsYg34Ku79zCEqWoeMHg0\n",
              "QNVW6wFHbTjI7iyCxF/izraF1W8wgVTupgkmO9QezPwkh4vQw9lxA/cXzyneKkeD682LgIVEOvpv\n",
              "e5N1CwpvDujAv0mHeoeZ/CZscjHKbwyi3+FNhWfE1LW18PDxm91QEi/A8qMbOw2/Z7siSIqb+Cej\n",
              "1spS8urpwNDLxbRYa3faAA3yohIJMB4mqjYBike5vxasekJEEfMmf8P0glv8BVIY/SQ3ImnxZ3uv\n",
              "k+AIBaOtwMAGKwRL39eDvUZp8m0K/Su07ptSLJjIsZKhyL7mIjaNsuj/6+ctjJTqWWiNsmRXXhpq\n",
              "8dwwkZf0JzbURTVpB1lkbrJyyDRXLt7iY/ZfCx7CJFdZn8LWqkN7V4DCO4kU0W+XtQI5aBwK+MdX\n",
              "pL7pfs29NlLeIlhHGgapeNzxVSoINO5IU6CoNHG+0Mty3EZ70QpOLxXDR1cshCHuzCt/TWqAyJtF\n",
              "EDEvf1xRKPu0StOrM81WD2XACDKVz4ZJHDDv77YA/xD4RWDSChe58SuLVqSpMMmGEj+6ONu6BZk7\n",
              "FzoAsggsbGAkFPpt+KF/hkxdGFBqjFf3upzUUCw2k61nwUBWaw03Ig/X1t8uLDmFknC5UzPtb3Ps\n",
              "pDCO7gvcr1uvMMeclAHUEpBuYOnjIy7s/Qf3zJGN0ljD1bNOvKRBfR+S7Xhqamh1KTcdwaMn4JM0\n",
              "jYE4ubvyJnDZjPJk5dCER3t3LLkUV8jZ50MtCNcMvaNQxKMhQmSnR7+SqFJs+7ODrk5I443FUPgF\n",
              "rQ8w4Js5uIZhixNoddTdaNIzGSkmJfJLa5FHOmS0fz7wF1ikVCfxCJoD82qR+h6j+2/yfAuiSNU4\n",
              "M40Vh0cC29z9RJ7cVM/LwrgKR/B2Y5Zyi5BBJ9fdti2O3fpzhMrng3zcEEldmTGQqa2sgubDooDf\n",
              "0vg5rX1GDysubSk/qTKawQVQdsi3Dn56vqogwliccujhmNBROfvo0fyJnUY1OajqJgaH+uFWAHc0\n",
              "/VvwG6FftnllMbOKkfmsXHzmwCB74RJqKfNYidCV40l0iHL8WgEO9mWjSU+FlNXvoAoq7Yyx6IpN\n",
              "icpREu6bzaZ3j6Sxi9F9secYRGqKN1vFBO7XYGwcnuI1ZuFX1UTpVnW6PSHBkTLPpuvj86K7pwRl\n",
              "3DnFL3eX+wry7iU6mmS7Lm7jiZYvDbo56Tw/xWviDDF4/JCgY50Lc6AAHufV1TuJp5BgFa0uTujQ\n",
              "chJim2WW6Y9ogbgQYBQemYYRbnv1pkmb2sc/iH6JSr4b+PFIagSyZs9ezNYsjMqqBkOy1oNbRlRl\n",
              "a+EAQNE28Vm3TEcUS8nqPkb3aci9MA2enbf6bMkyNNNnEG8qEu9xqEcwgRgftD7P9ss8JdFgjzbE\n",
              "e0NiimPTnt+3thybHiJZjtCApnTPBYEm9qRVsWaVbgZyHQv8X5yDWmB9UVrUwrbesUP6D5u9kZOT\n",
              "n4/Bi9rXiB3NH1tgAAADAtUBvTNWEwap1dcSc2yrO7tKQaAweaKB+XADIunlNzMrTsHxctNGPZOX\n",
              "/dVAuf0ij//oKPtpWihMojyc0Vi6CkYs7OWBV8MCgjo6gPye2zrLss8DrJg6CXWB+zyb+ixONKD9\n",
              "FysXvDGKE1tv/T2PWI+7aFF+XtJ7FPRMhJJlTt9dLF1Q0O7exa8CcDW7pLuTWTF2A4l87qxxs5gl\n",
              "4UOU0TYY7z086efkqdwqg9GBu/QNAKJ28X27oEOY05zM+eZliN72hE6hMUDhrLL/sRJoVdD4SLQF\n",
              "kDAUFqyQAcDjv9e7BM64YFqrcPxY4o4dsnR0ZDFO24FMstLLU0ruEhQr5wEjQDjZ0g3LY/UPdveB\n",
              "gBl+s5vIQv+OBKuDQkwPG2UBFOI8VTEMA93XN3lT4KvK4uezHUvshWm4zyaBXgCzPuY3rhSr7SVj\n",
              "qE5Idpu/4QeqerkIYzx2B/WevDMd2OOJveHo09yre0K1rRUXnxiR8St/YET7nAAYpsOQQZ6PeOaZ\n",
              "7ZYP66Tfj3LMmsNGsaq98v9x9NxpNY66t7Bl7Ahws9WHi1jNN6x0BtIWnJ9ttsuQqN4CJHFRAycH\n",
              "b6OEjhh6WHPnTGUnxn9+4sGLB+edC52q0Fkx3tlxq5OCwkDHpgUM0YaVogfpuhulrJZAAABL2AtX\n",
              "+lOjxNsj3qpO//Zh9OU/6JCyuwPg1Mjv0VGEgXdloIeKxRKVtZNGSuTCB69P9nMg2iLdf13gWeAb\n",
              "Khr0KyFJ1DFNjNrMvFBkEfSoXKGeMliLJMvVHC1Kxwfk754+jgiHITA3em2YTrlffUNkr4GIYS6t\n",
              "+OA4z1NZhCq1X8rPPWw9u8gklPQxsltifPq/792zB+HzsRssBSp/UWcsyhg5qTe3oe5/ZAZNFG3W\n",
              "XXIYjB2U1Hn05AIhx1Hzof2F8icyQj7SQbOMN5B1igm12sVQfGQRGkIl/3kbCXPOk1azl2k3/h85\n",
              "H2AEu/mU8UliflXtxO4uTwABLFj/pd9++6YgGioTyCruHg9IxZq7SegwWzDEm8nrLj+YxTrHbtn2\n",
              "2CFGAWiQEIx0VTRFLxIXSz1S6ERWyLThXq0Gz80iMa087+L3Nr7j/XzcP59JiB3/G0OZutaMNccQ\n",
              "pS02DKwFZvMW6m29IfCEs4LUdC39x53ywcqcgTCC53Ogj1lJLmk2bkgOIzlFJkzilfT/UEJbqiTH\n",
              "g2+dRXqvnmTM8jxPOzupeYRv5zumMwxnQGRnIZ8MQ+DWKZmkxai2Ahe3kbXtIkE52k/e8vZk9xLs\n",
              "D9mz7pUc9Ek81sBBoDJUc5/6eVk4gqQqhQcBYvt3z5no4ACUk0hh1IVYJB74jyxOkva9RrCW6Q7j\n",
              "KfQTYgPNiItx61DwTWB388d5nOHb2cmFRihbJsznG0skBFjpzXJuqFpFPjtdoaLbYvNejB0WzX2c\n",
              "B5BIRUfaKe6IyhkAKdAAACkzTOYxzN8aPrTRditmSPk1d2DgvSbKWkfSxr6wC5o9tBMeEJBC7UZ/\n",
              "pyWqFNbmdbKtMtOJ21JhhhJ2bM1o4zs27LgGEfcOlVPWyrBfqQv6yVQ/BgQ1ZVHD2UoWu51QByle\n",
              "c1IEQNGoORsOLUtPvyb2yNz6m5Ye9OBsT+6TgsdqeTea/Xn0xaBYmyOMfKpse9D9gsB0XOoh8qIj\n",
              "+Z+Wh2yiNX34cdPo/dy5Gd5BpquigkGdAAGDTIqzV1GncB0CGfnJCYo/8C4hW6r+qswXeVL5jOCX\n",
              "exEIehH5+btJfNqVx3iMh8xdazH1S0ZOrxcgPQLI48T7/lB8ec8MODU5bG4fAeF/bR6XBn9r2w2O\n",
              "ZZnlJE7aQ2yJ6uW03DPVlpWAxZfl1fNv4EJoCqvyeoPZiYzpZqemKmImsIBqWV+y9P6wdLQ2Fa83\n",
              "Hjrnve5EMUhPQIA9vx9eWgezErFgHyr1xP0dS9VFeV6TJAtMh9j/f1uPtnq2yJK9b9eVXMU/s6ds\n",
              "ojGMlc9hRrJCaduMPQugrwD+k/SokTH3krn7zh2s1ATawFgVbmD3nOqREO0opx5YBR7b0+bNDoLW\n",
              "ikAg0vwM5+Tx8T32aLlIHCsuyZRo/0lvtba8uHs0XMZ4jvcd5r7+qxpvboeVvnBnT4Bmc3gl5jCE\n",
              "WWO/SQr6hmf7FPA2/znxo2OZFQvOrhrqMuUc/X/p5UZCW1esjbc2Y0BqySpcZXq+DVun7FY/RvfT\n",
              "t+MOWTXsKDfZ/n+ZGYGtD0XXdshJbFEdJoIqhiwCYUk7zShf/o4eZR47rbj/cDe+dkduYPXnd3t5\n",
              "oTKrPOIzKRN83dU+zfhtAgIXqea1rfThVXbfOXFKl3rdvRlRK1wdRchwE0KjfGzbmkvUcooy+7n4\n",
              "u5jlwuFX4mQ6HquAE6hxo/L9EquxtnzrDoTeo0EqijVA7uTpBFgQ6jNqqZqIAAF2RY8CMGnazlHm\n",
              "+8CFHW959Vx8ku7gRKMkWjOigQq7KRdep9ECYqQzLnpuPgs5EnSun0PtXy3r7oZ4acL8ASFGhee1\n",
              "Ej5gfzTGQc92mnb0Eht3FS3f+LsmjyelTihEPAzMj4a7TJiJ6wF/D2++/ay/LI5nsxAaHdNELkTr\n",
              "2v25VXdwWij3EdLjTAttONdSKYZHKwmHgTekA+sg8g7vs+uoV9trYwcLDJdPuFwIN7n54avkGI+F\n",
              "h87VECEwLCFgwEfUpAJ3TIMj6Lvgi+cHxEgyrW8XVR88C0iYR82sVA0tiqqoPeG3wGf8PDVu4sAo\n",
              "Lcq2hrlNQRb5dDhApZAHZ8TLpeOT31YuQXQChZVi4rExjzDtAv9jiiRfnpPM/PUCYJr/Xc2fhSX9\n",
              "D5rLSVSwWsh/T6gn4HVsU6alIElHFaYuB1QebpC8x6NDeLPuK4E/LxdLDcCYNJAMpcLVmmR/3hUD\n",
              "/lQnbA3KPH/IgLWRUWxri948dI/G8TPeUNmTPRkkH6hAzVfMvaSR7SVFJ9ZbZN31hErE+EAmQ9IN\n",
              "inK2zisTqb2hzPdQEwAigAL4n/BVrZvXW1Rga9uDi3Jt+/aF5YLUwrUpkvFGNcW7fJCTWJghUBA6\n",
              "K1/3mrKD121GO3wkdwmqSkLxVXFuzSF5TAPessz2R7jlM1Wrf/nrQgMredgL9nDB6xrURyLNGffV\n",
              "Gwlu7Ntgsrzo2GMa4Ked5nW3GsDhbUcrN9YAukWR8KsIKw6FIOYb218c+XaXP/W4N/DKG3Zytmd/\n",
              "+egkd1uY9RuC2dgf79fL25AoY4BoUx/9eahzISjxUs/efJEDTYEvZTzoOQ4hqJgCbj8FRxh8kAzl\n",
              "8xNJH3O4LuwTBO+2g8kvnXz8wAxjB6xJ6goMzI4F8O/FERyovqdSO1tQA/2OLDnY0YPuaRJDrwYF\n",
              "jL6/rxVgj1JVXHaxj+7kp33YCSC7GWI+SrS0OQpJXg3kG/dyBAqF2p9i7zUJcXp4/N6Qx3l1IBHc\n",
              "wND9Yo8wY+FNXto5cL1PukLY32jXKi4WbLzGmfWG8GXBGEssQutERB90j/0EFXGGSkyV79pRrnfH\n",
              "cMxY6936kERtXX4UoeQTwj+m6Y8p9IbPFjCMHqyy6zG0ymzds/NMxUI9nMe8SzSqbyL/FlA2+Nwg\n",
              "cEWJfFRTYstkJ8hmRvRxG9ryOZU31kj0H1kyk17cSEmzl2urTyyb4rDRhb1qbNC/Fa/loMeIfNkZ\n",
              "DGS/PJAhDWBZq8OR04r8/DZy/Ueb8ypg8OeyYcyEaGIgHTr0PJjmDTzWjhdBfUb+xznoSyRY9Shl\n",
              "khSmjI+83ieq0OtDbUH5gZPZYKmjp61a8gfwAaJY9hNcOlWMgZrTXydFOjUyHguWFgJTBVbgUmbZ\n",
              "IrY9zQHeejki4hZKRwL281ffsUWxWXNxuBJsEyHjKbZubD4ENmvFw6mHOeStxDx2vOijP/IqxhyO\n",
              "CIKJaBAUa7fBvd4DdtkRM3R2V6rFmDU1VWgCB643ybfdqa8UaETCjAjCdL8diRFXBF+isJ6DtNkW\n",
              "d2QyQarZ0F/d/FWZqZNpFFZRQkz/uL4kXMVLREwxe4RGznOomT2IfJLjWCzurLn9q93oPnacthQw\n",
              "34GSrAMmgasHYedOxfHikIhM2Mzc1f9FUQ6B6L0abMI1M69oZscKD70QqdPN6gtSNVzM6lybIOee\n",
              "aO4UM/3oDJUKuf3BVNt3uR76V0bgEVw7uV6tz2sCO4ugdanLt9eCrv+cALQSFUWbWPCSY6Hw+V0u\n",
              "I1LqkTsBMrusrEt2y2wvx/PJip7emCbfmX4CEog6J8bTvIY2I34nQmUVua7TmphTPSaFCbBAXawq\n",
              "kpj1U1ll0uThJIfB7X0Yyrhv1zg1DGvZ1gxnwbqRO8jzzgzcIbME9VEtuS/8/WjVCpMxrPoRpfzg\n",
              "1ILfnkRSwk9F8rMIjH+hM7odyyUile2PBGame3sVrp/4pKsfxEE6yfSA8JaL35nGepwvOF43Wu/+\n",
              "y8J7emNWhQPjwzkLqy1VY+tB7fjgQ1+hDijCce3KJzu9wb0PPwDJMN4NyGbIbi9+z9oKhPxbw/0M\n",
              "26/2J4/cMvNajW5ih6ciJEFVNlw8zEQ3kpe72UdeXEVMSh/9WlkQIzH9Z4mPjFfWkz/6h6cIWTa4\n",
              "aEu6WXXnPBU8MGhEPHvUN8KWJsfl1yCiz1fFP7RxK+Z8JsrAGh72fhmN+h3jhFUX4nOTdCKDWfIP\n",
              "1svmbOfsRhglOlnMRFqkm7Tv3SueofyVDxTC04CuZK0zKtlNxzcXs0pRQV2yvpgAmdDe+YMe0xsn\n",
              "aO2X40kEKJGadt3s2vnC8p/SkqQbj8aYxo1cuF8RAuH14JA3eVATEMbrDoUIUHpYwDvMTtaTwT4O\n",
              "nX9cvklQSfrd7opHfkO/Vj8hmYK4it0Wvg/3dermJX/PhR+xUnjzXiiW9eRYEhSEpHoVMmop+ppU\n",
              "ao0BCKYwLaPU+AAtda6pNmU4jA5eJYH65OetoOUrWQWbHiBI/80wgM/nVUi4E1YIFfOKL1wW1CkG\n",
              "X3CDlHNC/rlHSRicvriwke79y4KlKadgqbW7f7kLlUWHY9kt96cCryhjeFXQ3JELS1NfzlKPmq48\n",
              "ijL2pSsfJWxYrzdhpFANecT5FPwlaZtl80C2v2GBHulm14uz5tN8WlXWo2mlR9Ul0TcLxLzJYIya\n",
              "/mU0cyZ7pVKjM+zgVyD7mUDgzN80CNYKGraljJ4XZGMy2e+W6GN8CUKcPTcn/b1JEHz8cAXZz3DA\n",
              "qMp/OyaQ/BxzIFKKeSb+lP44pFTu7x4MaHmHmRhmugKA8kftGTbLs4dgg4H6oDzTa1KjZTL0/2wS\n",
              "STKl3dAYl2A6efU46oNrzMeaOJVPTdy9nMnSsT3j6qvS3dqaDgP4WRS1FCohWEkA1JekADNYim3j\n",
              "FAAAAwAAAwBxQQAAAfBBmiJsQ7/+qZc46rsBQ7oBfdD5Ob3n33fY7/JXe4ozcA1DyBHlRfrkfdOa\n",
              "L+nebK3O/Jo7smTgmznNBBR1DU13r6XkKvAu5YSR1ri/Oeb4lj2fI7ptjhIoFvoEKOhmyUjIlE+V\n",
              "9BRVXPW5TWt9bRpLk0ZoOjyzNMQebhGJpjVtNbhGatzQZ68WjRJ96fdZXt8tvUmW8D79bBhY/XJl\n",
              "FXaP7CVWrXdWmUClwANescG2cSbajU6I52L6yHg3P8xl6qg6+P7kz4ABHhh9C1e8+9yRuDSuKKvh\n",
              "VFVNToRTQjtDZFFFt/YuAZpti414LV0JyvK7AJYFANm8U11KGLErI/jXip7MztcA/18rNn17KaJB\n",
              "dkKdWrD3Kuiz8V4zICIwHJcxv9B18VWOCQCp7NTPOE7gh+5S/TAJl1y+kig7CIFYtPItrganztJi\n",
              "DOwI0i+/9AjUb9u5nQTPCAjQA40Ds07NRp2li7IXWLEeu1nwD9mBbMMe+2QEnyDRWOik7wo11pDL\n",
              "GBdgPBjaN9zPx7tU+vp2U1Yp3oRGYPeD/mNhcxyDNRFNSeKDsg3QmKiAroxKF61F4SsSr4p3mmak\n",
              "ghSQn7+mZ4C1hvLKZGkUd5KCqwV5j2KYJph0zsjPJHX8DwznfkA3GLcsFuusP4imxHn/WQZ8AAAA\n",
              "eAGeQXkK/we9XokOaZzc1p15manrzQpf+6a5Y2b87JeZ5SWiGnbWXmMAN13UgCbO4kMS1C6zglcp\n",
              "5bDu7nhUNu/urIZLSO/YrepL8UvLlhbhCqmA/h/imEMgOip51IVPmjrTDNHtV1P17x3/n/qTDDk+\n",
              "B8Dh0aAz5wAAAX9BmkQ8IZMphDf//qeEAHn+AbPpEdsAIfqYVUWn/fhrl93g/9GI11Ak6o3t9phP\n",
              "uHFnPRjJt5LBmQ+JM5IOl2mACBLAAAEYeODNWOlWfidXdbWeidfaPaJPRhgoNJxmKxRn2TEOCRI9\n",
              "C4+Vegr6We5xU/OQmHwr+5+r53x/gp19tb8tP+xRV9l2qLI6W8MD/4Fdx1jIQVf6/iJKPghgLW8w\n",
              "cHwkp1wsBDp1/+PePqDiYGyuid+C/wcCqKC6s4UDDDO0fHcpii3nEZiuasevqJfpflBbSsNskk3F\n",
              "pGsQgbm5AQD7IfyzhSIxbg0X+S8Dsxl3SS56MCKJp6hkIHA60gtOI/ypVlMHLTejJi/TPA605Wdk\n",
              "we+IshNRW/bra/5G4TyGCpwkNQXx21rIYhLVgH9hAza4rp7hifrEYKQnl7N/QjbnMJeiobHqxjfF\n",
              "SMuw6yyLqRbxPIdhE6CriDoeqN9F96Q4zXT4DZm4OSTSJNPxU0XtftC+B3suJ/WDPWLIWAAAAGwB\n",
              "nmNqQr8AZIfamg/30Ch+QW3rgc4NxXH1XpvVlaNa0Nor0FbsERYoEUrQlXzm7vToK0CAsAKq24/3\n",
              "Cj5x1MYCHbvZEBCihaO8+FlRj2zhdOINah3FrIR+mSAztpCh4RbXIAAAAwDPYmPMOmEAAAGeQZpm\n",
              "SeEPJlMFPDf//qeEAHaBp2cgAXR5YuL4MnC7YR3BIEnFks3fVySHXo9dlc4dEoWAr2USYFkI5ebc\n",
              "VvuO/H5ce0q3gp0/QUvlzzQttwEMv+zGmCqJ+wJQGcF1fzU9jlCOPrrBGVGpTU6RPQjyZXABxTeN\n",
              "a63zrfNuPwm+njZ+BgXKs8HTdZQge8uPxi/2wa4UOIcs+4vfl6h2mv+y4AdJfBFnVCiWGdY3JZSJ\n",
              "H487602uRcjsNvxiXU39MzvM4b3nYUFiDsf1HQ60dco3kyuzUJyO54JELwE/2Tea6e36qoltO0mC\n",
              "7NFt5IRpDtbsx8S3X0ZVRmSvuMk7eJ6nkQGcgOM0B5k+x8EF3O3yewBiMHKvrWf2N6YcPJJ6nB7f\n",
              "JWuiI8syzfBR3MwkuLZUx8EIE8heSqffIj3Ljt3uxCyEFFb9BzHgBnvXw4AUWDT4ieqQ/vBNlkOn\n",
              "hE376seAHMCkfKVYYosOCOpgiMMhg83oAjSvuyS9kNuQzs+iifZx9EIoVdi6g1OgSnGzJcRagU56\n",
              "J4IVzpkfBohYAJmBAAAAWgGehWpCvwBiKyIck27FT8OBaEs8S1dAVg21ooQctK93VngniPN+1cf+\n",
              "KHuu7EVVnj5Zkgn7ja0YcaDz04WluY1xgki1jVfs0KMs1Zsod4JRY2SM/BZQCJEGjQAAAWFBmodJ\n",
              "4Q8mUwIb//6nhAB2xedi81do4QAcUWzFUl/4MslE6/WU8Uk1fbxhExpVXTnxVIawvBS4iv+GHFwe\n",
              "MnyGtumS5QUdg+TXj5NOUAbOZI3Da9dNW4BHnxj61VK2A+1JTUpSLjpor1fLOmrQg9mcXMt6JKtf\n",
              "mZDMFlJ5Lf4x4Nbt3+0llNCFjDVcR1CSPTf2Tr0YVIcAt4I8AAADAF2ApviQqNcUckLZibj6Zs0U\n",
              "29jFJ89bc+5mnhN+T9xJCRs7vCDbxxcgtjq3p8n2Gp13hDIsX0SPyqFXg9UpEZX2D1g8zXzK/j0L\n",
              "VFH8ppYCzgtuT4uuF1IbqQNm5cO/8Mtq3OoTUJ+RroMVXOTDE01aM4UOCybwNC+UnGzXcNUSTeGB\n",
              "5c20LnWwCssAskztFhE09tMhs1gfvGhu3kmJ5qrINWsdfHrT9E8Zm9CAbo+5GLZkq3tgTqckG/ct\n",
              "MZfN/3AhhQAAAaZBmqhJ4Q8mUwId//6plgA6Q2qxT3yNwlQQHgBb0SuOxx2D95rJ0dZBJ4Kn1RHn\n",
              "RxZGXNcbjbGqVMLl2Py+PDoDyhffTQdbsEPETJkrMwR5I6nSbTdFWLNJ99vTH/VAodlsAt4jHveu\n",
              "nDwYdz0cgZkQiJoYfTbVNWQceluzWQpMANXrXbAGNVxOurLGP6tj/2sL1ctPv+cD3ypT15sZVsbJ\n",
              "pmI4WAtBdbFGIQYkmLmpAZfe1CMYExUSLDEAQXQ3zgg1SxfDrlaFjcGwmQTeFW1XnHhe8N7RD9jp\n",
              "G/C+sZ1OqdK0ioKLWxhChnObsAG3a8/rs5eJYo481catthpW/i40YPpMk/1pT4td2XZNjf2/45no\n",
              "cUCnRuTzVLO4JyQtoXU+mfhcBqn7ZyBOdmxO/mLlp3DEX44e8xwLh+4Shvq37q36qfGL16J09tHX\n",
              "rFA85OmEI+VWtk7IfCouB0hi2FGi2RgDFYF8kEjV8kU3kKbTmmXHDwIPhlx5S6mDHVdTrPhT7JUz\n",
              "/EmcEPGPeql6faYN04nroDTiWvLW6rYx3Qv86l53AbfN6AAAAbpBmslJ4Q8mUwId//6plgA6Q2Jh\n",
              "SnEMCjilvBAAcIxo4wzgAWcwRg3nUWEdflClk/5PpMdNqIUg2eRAhhkOgZUtdjLoh885DMD8rq8Q\n",
              "9muxyfY3zjVfO+lfdOGwmgpEuIwYds/TqRzDmJ/w30hyA2SGyUZ6vhxIvD7BvubyvDt0/6KVvzwo\n",
              "mOL6D+rhWD+bjlz3rc+/7orZJhId+p/eNlxY8IXoJd+fSD5qYb+gtIFL9yMMmxmEtLnRP+Lrf9xu\n",
              "rLy67+tZf7s3bGnn+uKCsxV8hKZn9thhSCIevuRYfcR/5Xbz/MHj12kSr2EYU6GHNvVW47UEXezX\n",
              "042DtWuzOpu9CJynPZTmaVZnS0sZf7Dflux0IiVl5OlcpLD++QfP6tcL/QfuhG+rPxgphg3ft7+C\n",
              "8b1x/HqWeohzeaiwkx7dFgoURDQVsPkykJyhDeM0dxeDDaSbrFaMY0WFuDDoKFSinKcVD1BD7TCE\n",
              "jyD73QlnKClq60u6Mjge7glE5iFsfRENl+6059e2iHjKRXJ73vGv3338m8u5I5E595tAlAyKkMcv\n",
              "XuzKMvkdVBdPtpwtPxFu22crPNglmCzAAAACLEGa7EnhDyZTAh3//qmWADqfEE1nt9RP7aADszOx\n",
              "z0aVJFpl1Y3mGMP5TsrHGj7fSP8tfnmP87qUrNRl2vcn2mVUPVwIPG8vivJDQu4eofwLGcgoWxRL\n",
              "14+HbivdyAlqlgkFggXDnpaRzTe2cCxg5/4yDWKRM4TJG1Up2oSabuB7qXJ4WXZZcTKEQ0WYgJ29\n",
              "wSKu5nyKQ8Kf8zOqbhviRBUQySMLmW/JGFSToFb9A0hrXGhj07nY3A+ckjZtZGgfiK8niEZQl3+I\n",
              "DJlZ6w4rmI0pHu8PuAqgzVVd27jnIhSVq6Oy7PqehHs1LVl6OxE72adkpAYd7T1jHGKyR9ILzz/2\n",
              "HG9b3j7nuDgB9S2jVzJN4Up20+eb6yDbDf/KAGaSsHv7zPxcK8Bc631vlOfmi//5WrDmHHouHcJd\n",
              "1pg0qjrlawLgjQeYos+INvxjkf+nJr+ZaiIyE+QQxWifyURB2qnZ8xUjzBtlpfSgFKcXw15csQfx\n",
              "v8j5nqq/Dom9hktU9J/E8SD2y/w7fNbcjGAeBThVJ3iZSwW/I45fVGMS+vhhfSeaFUumF7ImEr14\n",
              "i16cwRKmy0NU99YknJg93/ZT5rlqKq+Kf6CNATazGCboajrXgHo0sLKOQgRIllyWU32OCcJ1sk95\n",
              "uLhnOZ0GtXjqkldtgtQ46dMcstzMWb4vN++o9K1flKEYPTkQru76E/aatNb7ggzzE6B6c0HfQ5mF\n",
              "BvisRh7mkclcYRs5T0kAAACmQZ8KRRE8L/8ARXGmKKirL+jdoABoFKGC25W9FWRh0YOqWTcHPVaX\n",
              "JbAFOKhmzLqKInF5PZQF5j1h6Hf1fg1stxJxG6OM1ikpGDhRu6YYbczGk3t2BaeRAnzJKc4o9RCe\n",
              "2MTTBinbohfX9Q9wAAARM/msmxtLYEL15v20TNK8Q0twyWXx7YOx2na8E5cApg4GF3J4o1P6UnZC\n",
              "fv96hGSMtxLrhIIJuAAAAJQBnytqQr8AXkJfuHrqLjizhqyNAWxoaobaRZgAud2YztRQywSEoRKO\n",
              "lRNWzJOq7dK/k+QS3JJ+sfnxtSDnSp8Vv9gwN7pfY82x+0lMDIdi3f9SaZzj6Nja2yH+L2fL2mkz\n",
              "VRnliT6miXJfpbvWU3/TfrEv1XVqXHUHJ+yMM28iOv+aAoq1s65rRv+kI3IUEr9RFCHgAAACkEGb\n",
              "L0moQWiZTAh3//6plgA47Ve0ADRvhNvJentM95cj45sUitMV0hDVxJzepgJWSvb/+86nMufZf//i\n",
              "z6xyVO4dm4UvbY2SifPy2csByieUAGwkZzsZ0nots+5NnQYt4kR/rIeNEgB+OZn3+EFYBLjcUtE8\n",
              "849YlS3fwSgRJKYdaU7sV8b0AbHPZ3hL1+3Mduo/KGo8Qyrhb92LKKZmbaqaTux7eFNt4HLF3LUc\n",
              "DUM+kbxOvxHyW3Zyp2CmudZoLSCKwTXJaWqcWmTdMF54Ksh4e5jbceTlyRcwt+56n4CQapm/M2Du\n",
              "IlBeWyUxl/ybeksgs5s0KDRhBXH0NvG3TEpb+N203P5e0yf1tY9DyLJvdKK0fn7SqUQXyoLbCO3F\n",
              "i+YSFzL7yXipdhkF94CKyMXUctVH9ncfHiQz4Z61ESfoJGk5LOIQNeEaDTY24QTv0AkG1mjTGMQY\n",
              "a8sQktRc6pJ5vETf4fLqnCqEhcM1P4lOS2o28rKwWvPU6fVgpy3kTHI2/lWZH1idzxmdNQFu87F/\n",
              "6tsWHDfHW6a1s2o3dCSeKB9Nvg07DbIbRJtBM0r6pyAaVBlL2KgAiY0bb6myUC7WUC9h6MUnJyzc\n",
              "LteNxSeKTEauYacmv20tZZFH72Z1AgQJaiNa9RrMiB3YhFsZpDz06cVsCNHadWdDF/0n4vXqCamU\n",
              "xaD6RQ2QIJhocFGfFzGmXoyZsS5suza9+uQ32tFHVhRTkeWpGp1pGSKEoS1s34bKJYfQza6an1y4\n",
              "JQDKk8O60XTC/X9Q5Rr8wFLc0B06Hh3MMzwfAQsog6oI+NZlh9tewpNl0LbRDV4W0guEwG2wLm3M\n",
              "YY/3y2nQKESvaiPwVqFEGvGO3/1dWOoaaK+BAAAAnEGfTUURLC//AENxpitriulJhVc8AINh7ony\n",
              "SenYu1oGXbQrNxF5JEU9tOTDslwTgfyGXVqiXq65TwWzlDlt+oH7ufDkI3RojLurQrqxAxNeXmKV\n",
              "bEgEICXzeRTdHwHIdJID2TYKYPbo6etEQiuJU8t0QBKOmlo6AU4xABBMPcXd/BVcU7CbQvuLHs41\n",
              "S/0Js7EB22tXF4pVjcILKQAAAG4Bn25qQr8AXPlHenHly1n4SkqBsOcYgBuT5jcG4RJfbjWlxF8U\n",
              "p1EmPzbn78xO7kmfaCq5WRd6qbJdEqr8ggXArokMBxEhzBeynf1df7YV7tkxR6Ual/vElPf1ZMRC\n",
              "XQ7ZsNm1d7CGMv+gq4AiwQAAAvRBm3JJqEFsmUwId//+qZYAOT8SABZxSQPYQJpUiNDCX8Ez25VO\n",
              "qyAknc1qVolnTHN23I8P//iogA+wVuHR/4TwpRza2lYfBfWd4rVGqplig1e6geZuO1XHq+zxmHIX\n",
              "fZxNjteIxMy5DQZ3dAqPNA2UsBo0PcydNbjX3b//k4L+h9trNL1HMkP38hfc2NmRmTMJrUzJDa7n\n",
              "QQosOwaX8VASt2/7uDi+d6FrxZ09nYba+LupdZOjXjTmTFfnNRXGzX30pNbLi99M+Ptdh0CXB62o\n",
              "K3VL6SPRCTJ8kGicByD626v8eIvD/hBf44i3aUvr8mFvlImV5GNS3KAIaH3dxRDJcRZR7naC49YD\n",
              "dwx9IJRKrRec3KNe0gFJsPJwklQ/NZsBrZPyn7POh7FCotS+zYuV4rVU3EGtVzX4OPoI2u0mo3U7\n",
              "DiOGCZf5pjgmLkrk5X/UnyGcMX3D0QHvRIMF7dQIbc/LWdqnXcQ5QxkIdMywvVdwMAxKkAU7dkLN\n",
              "/WT5iJHo/XWwQxH97OrMRyEpvEtesYayhjGyGqASifrhkpcJgwab5dlhM5a0081qCajZnK2X5wM4\n",
              "FAUjuslm1pPhaA7ptu/OvkyJ/2jL2PxsGZzMCj92vEu96t8Uqi+yFncLYMbzR/DRYzsSHU8ThWiC\n",
              "OG4t0LcKOoBbhno81R4uUYicDbJBKAPI1tixU/yNZq61iwKd83qOnDdYHJNAcW/xKMV3Oz/B2Ai8\n",
              "zKMG2ZhDooQalmAQAbfUVtsjKria9Zu26z221urP3t1avfot5zklNHw1d4uRhu04Hes3CHXD/BUv\n",
              "NmZFyvzuyadxZDs/1QEV1ZC0n8WI9+6Xct2WPK8Kxt2y0JrCllzJaTADZM76KmwDbuMLuURRKX07\n",
              "YUAGPfi2NL5km8YF+Ld5AvaTZu5EPsaEi2hg20mrYzcQVKhoKokaNaYeDLqnbZP+of+9V2/e2IZc\n",
              "WR93TM3pKThXoPcMZiyP3iw9/uaiHcY5MeYQXGVaNaLUwuIAAACbQZ+QRRUsL/8AQ2cnBWaRTp1N\n",
              "VpzspABpuE9DQpAVY0UG5Xms3fZYkbrVPhUbGoleFjX+eNEAAVTBpmRlorJd/bKUFOEsueTWHFeZ\n",
              "A6+yBLuS1TnHAnuz/twWlJp/J445umg9niFBKaoBwWzKJU0RiuYQN7/q9cYnVikQwxOCSCgSvcZb\n",
              "901H6m1AGgmmJK7y2cvV5TnjyyMYVMAAAABoAZ+xakK/AFqq18B4H3vUgqkZ+oiH+OqAYbhjOwPL\n",
              "Z+LbeG0H1/e7CmTL6tEF+UBi9ACy75uIY8Uue+qt3wYLIK4Uk+PCiKwTz/ART0ijo5kqYNplVcSC\n",
              "8H2z5NvP0jrHG2k2UPWsA9MAAAJZQZu0SahBbJlMFEw7//6plgA3zk9CM0IQAHGMNUt3U644HSgA\n",
              "bOpnyiWwogRRXS6fxR1EJZrHjK9IwWPyFlxAcqcze4I0mSdAzMbWEST4YjEBHDePSN0WYHOy92ri\n",
              "S26m4qRzQ9TaVBRjRQemRQZWWyoPbq2DWLoRDaj76VRw0UAQMgZtdiiRfI7Qc6amBCtbD8FbafxW\n",
              "UhePcc53uarFlfY7kLcTEkdJy9WqAtFvb2s/kuMr4ivZ+pmnJusuND3/FQNdmCr93v2ver9UqJXf\n",
              "gN1jZlJbweNuL+AiIhfUIMbL49j8XZXFlTMrk/qst9406oJEYZ2N8A7YUWUWbTJ5PFK3o2pZ5w8j\n",
              "vTCPaCTNHHzDQAT9yypcMgXCqLVOADYqCJO48FyL0C/x3+hAg7KjhmzwZ9GJpCCghGEBaXQRF24P\n",
              "p7Xl6QU9pP9TXMOxEFRKNwcyPYYoGKNW73gk5nHArRvSJIKFzbjkfB+b9P7Bj9o4V39QYI4xymhb\n",
              "ViBIqPPdSO/WqWFV2JqnFfvX+svXrE6KMo3UfEzC9rih8aKXtUgBGtW8KMCQPJtB5fKMiiHtVf+O\n",
              "urLh1AH62w1VpIDvYY42D0j9l2Qt6Sl/2L7owVcYOmrKkQRwwt/KwpPr+bP54heaLVVugV1SudPD\n",
              "2BAlvSnz5Rgo32fdPSwgwOd+kPV+fpyOCOvmoukMc2egyJ4mNdhGBy2njMXfUAUBuxiPvdeMj8pz\n",
              "3Dp54J1FLA/4bKUBFwachmqyMAQZGUUs1iA186oai11J+bn7YV3YIurZKYpV2m7GpAA9IAAAAH0B\n",
              "n9NqQr8AWphqH2lCP5eZsuVc5pF9BVjhluqkNV++q8okmYyXa5FOdle81jrnH2D4mDehKL4uBO13\n",
              "oLRBF6VACz/0ZyiCroboRCQVkWpySnK6PODbpifLLAdAa3qqfrPJUHHZ6eDk6Q/ihS9SFZXbLXG0\n",
              "gSP+FbyPBMQccAAAAl5Bm9ZJ4QpSZTBSw7/+qZYANldCKAFgroHIVP6NmbxBK6OSv+X42qZYg2/3\n",
              "THN23moj/l4451EC6J5D+bzS+tpFmbi/XhSliH28cAp8ufwxTn2s94eiIzo3XJ0aSRp0iYgd0G+L\n",
              "S/n+2QgK0NTa1qIZ5QfYr1xPR2mOTfxS8l9PhJyj9fAVFJ3yxNpCZHvSNYQU8lRfBnZTtt3v7QsM\n",
              "S1yoOnyj6YuWMt5Lhm5XmF/0gLHgrj7Uvmo9YQDZvQhr7x0fEran1jEY5X2oH3jen4Ud8FXZtAmR\n",
              "uCQ2C04i1eFdefUKxFtqgvFNVF+6yWOVBhGLtmS5NsyPw+95GQy3KneYZDGZm5+oDjC6IBg6X+2S\n",
              "rcBLkyXdobw0qTOw9QCWogBNdlTupivfXTAL90GfX+W35gKG9n+ILNYclXXrWXfcAeSdzGsuQlDg\n",
              "m8V0tf2LzT+uhMVllNBk0qO1kByf41vNLzH0h+Wz+ehonWTgWP8lz21dkKOGXJJvWUUlUG5TpFzC\n",
              "GjLOl6kJU2wO68zd3vuBi1RM/pXvJ3eFfclT9HS1ENTXwmLP1kIV1Y0n0ntjhr4B82sgYl9tHnfY\n",
              "mv9tzPmoPJ/6iGadOzX0n6+0r/RIJBsOnKG81QH6PydOW9eoGW7D6Uuo4FHvIlPtxxNiKsz+n9Py\n",
              "U2ugKL3aNPzd24pjzcEFZW3zP1t8Zr9A5IDyNGnad/69uTiLfmHJphaKGB0AAiKVU/B/9L29xkgI\n",
              "Ih54ABQtpuLLPvO/AKqbZHRnMhci4fFTzztiu1Ci4eki5uNex3HP7W9pI8abOy2bHukAAABxAZ/1\n",
              "akK/AFhYaimEK0fyD1XIUp/spT+w9m7VBeTqlqSy5MsOmg9EhStDRSHMYPFuELVSj1ObBH40u/Pz\n",
              "oGmWnd2qJ9zz/qPhzAb4xcOfuCC7kilGEXh52AGnjLPgfHEuNxvH5wD2R1DHVEemcO0g1IAAAAII\n",
              "QZv3SeEOiZTAh3/+qZYANoKsu8ikAAjFCC6n6763kZ6IdlYFUQ/E/p+vuySSyQ9iFbuoItmQCVup\n",
              "nAbu8HTgiC774AzFovKwkLpuQl57K02sDfYUcc01vn5gekdcZYfP/afN7wayU6P9ted1S5nPY+bp\n",
              "xJvS+YeGvoS4jYAyrcy6pBBS6aPrIPXaZ+BROCtkGrSbrRMukmCSGeLnxSB0pVDHFhjezVuwzGk5\n",
              "OLeE9dSfBt6GrvSRpqwukS5BEq6ajZseYFw8GUFODcCFtssaEOI6YvLRl8QaqusDKq81c9BSaFHZ\n",
              "neHQk89FzhNoOyumlQ5NpWesUYY0Cc9w7huzFeudfUF3yH2BPcWQ0jPih8XUMCNbV8VTFNvFZ3JA\n",
              "wb166+p9Xy0bktfvXVv49Wyhz6TwIfhjUd95yyAoWtt0+ZrnJv9l5iCEeLMAfdIit5jc5pVGvH3D\n",
              "TjayO4P6vU9OFNaWDoaWvsUv9Q7D3xlVJRK76iYQk2rdfuxQsogv3N4KUEdjlFu4kvDwpbM4whn5\n",
              "nWuTiBR0I5SR8hdOb5X2vLssJzjaZk/tFp6roSpb0ZphRyEksQzye9smAZAWDGF4f2nENm8xzpPw\n",
              "P0ujtKYOMqNZQ4HMOpdxRrAvV8vVFgZV+llTmlHubRxlvAXAEXJaJpVK5/PB6CoEN1jely5k3FSj\n",
              "vZONV5WDpwAAAsdBmhtJ4Q8mUwId//6plgA2grHqwGsQBWq6YZDP1e8LJTGtdXEO80VuY0tRLOmO\n",
              "btvNIchljjyJsqnV6YQIsm4US409+V9Tn5G+T3uDLLdAAXbP0VfPy9syMlqc3+mq5A/g9echFsdN\n",
              "ToCKYhZN7+XsJZYcTE3tfsKD+xisR/A5Roz1yKjxBZuHgb3ordAC/7pwvsgR/zPuNkWuR6BLe1S1\n",
              "u6kFa+wPnGaVYjJCiHko+oSsUw7vHA0do/23aPjLBo2tP0mTOLoJhP8AqLVTXFnPLYRSF0iU/qEq\n",
              "/w5f+TYK4COofXRVyFi+YOl0xPAZtIJZOgOXJHqLRNXAo1pXXuLuOqy8U3SRTz3807uTMRTm5bhL\n",
              "f9RvJdp5isXFZ1tWm06DuWzxA1Y+stqqgQFTSQmH0knZ1lhQ+Ti4cTP/Qf1kEAq62HAf446vBi2/\n",
              "MhZGqOu40ZMwSMme0Y5i6/3f0uVL4qTpi64Jsk22ozE7Rn1pyNLToQgQ3R5iJJxAEAmIW3O2fxnk\n",
              "MWb2ChPiwCtA+7QmMVawqj73IwvcE4prpffJi5gR2WdR+puPAZjDmew5J0lxczCF1KPD7ANqM3ya\n",
              "1H24fdFHOTamGmyWuLHMeYwM6RsmMcpq2g1Q6HB2u7KfQzRpPK9UBC8bUKSGtJfb05mW7gvHNQ6C\n",
              "biPSnpTh0cScltmqS2vcCtyEPbsp9XJwAaSpHOddl/FhuLBYJlohUQSSc60e2zrVUKEbVIySF/8w\n",
              "2un8jkkFZzbsVsyBIg5KwGT1ivSH0ZLOy1x7Kz1ngUaA05tNEIT3LofGFHqh0AgPRMa8T72I/ouo\n",
              "KncKfbOOVQDgi8CI/G7XVFeQrSs9J52mV0BmmsyUOSbTyVHXmP4BNWNaJFGGIBZpBgDLy1C7wver\n",
              "a4Jk1jUa2qNTETmmatcTrprQDOcFzdYo3Ce5I2pc0UIgNhQgi4EAAADaQZ45RRE8M/8AL77EXZAA\n",
              "OyNS0gCrCW4EwE3NYV9rca+wcrDLn1Jvz21edx4vh52/7BfTa1UKAi6LOH6lfKwOLCVdJonwM7bo\n",
              "en7PZzjaG0QdpOeZ209WVA022oN1CIaF40Se/d93wDf2I7v6SUqEJ3HKqZQAWUhU7DJ3WkW/cIAK\n",
              "vFLZZ+Grg66t7HEUaJlKHWOikzU/mMgqGumYTG0xb+DfEgn+7vkWwqM8SOnDVGzqegPcAGODg/6o\n",
              "GHxxKVxHNkqHwOGsz560/+loVWeBpfZdSKMxVVQ/BbQAAABlAZ5YdEK/AFiFDyLK6l/WLrOPg7/v\n",
              "u+zCmy0A10Ev8NKtlaa9h3wA3NCnNxMll4R0suieWz9VDPJprx3rlZTzA653BD3Kdnqx1BwZmRRM\n",
              "7+zJdyVVsHm9nmU2QRPD1Ij4Ywb/SgkAAAB7AZ5aakK/AFYq1whwABOqmKWjw6iLy1ljK0iQ+/jS\n",
              "6gXe52u6MZPaBUXQO72KzB0cUkYS8Y5GigXZWdFH+trPER/+tcw3FHzQEREGPZLr5xqNutdNEroB\n",
              "hekXOcQEeRWXQyQhZ5rr/LIAwBbZ0x5D8/sFpNhGM4vFeYMuAAACLEGaXUmoQWiZTBTw7/6plgA1\n",
              "Kgz45XAESn5eg8G5kxt78Y3g2cLckityW9BYgRRXS6rM0I6+zpwdtAeLZ6MswrJKWU5vpJ3KKrye\n",
              "IDCu1yRUzDAMiFc7ZDrMMQUIoSfxeXc5lez+Qb15kJ1YcTHgnl2bcyklxOioh/KCGnI+eZOwQokN\n",
              "Ne9++ZST2sutJT1lCfe2Xk+KpkhW1Oz6mr8O8Jay7yOlA4hwlOHaphreBYNmkAQmxdDXB6vKn40/\n",
              "j5o/IC1RCLWkPDIeVTcF2o0cAIqj3fGkNOmDsgCyN9ocXD/a+M9cIqtLOK8GhpCRPVauJGGtAOaM\n",
              "d7tLqsiOgFuQXyZ0oHPMSswv1f7LL69PKUqVBkGwk3c1xX1aYWVaZ9+6/m0PwS9z6PUsdX9Iflnj\n",
              "dHUefAsKsYh0MHKb+Xan+0ccR47QzcGHERNP1uNTXIx8ADvGMG9LUO/90vDN6fIRebRNpZuYIXcf\n",
              "m5FzneeuyM/dZbRLe1ouz+7Ezkhc3N5QA7JNDnmBBvQiAFF8jNEMpNBbdtt5qFJ8enfdCTfmndDZ\n",
              "IaHfaz89afrUMbJDyGJ8N7C4wtlOU6UaMVJaXIpMA3wud4FnEAONoreOMXBm+SgutExUj0+ciBl5\n",
              "fYibwOaCtFve9x8zx/GBuJbRAuL+Cx/87hlIShKh+WTu3WrARUynneUIERJYw2zTKeper1at9Z+7\n",
              "Kdw9P6zjTZK67C7jWvrirhOu+PNSJaJcn+EAAACEAZ58akK/AFU4m2hvxLFjPRDO67SiAGsALkk1\n",
              "4KMjc0mCbgsXvulM+Am04Tx3igkOpssyXcSmE73GU6dtw0ODXszt+M1fsWK3RdPw9OTGmFiug06u\n",
              "fAqZv9lei/Uf5uoTMhz5yNu4WbNhQbgvw2lPLEZo8tkWi3/+xAbor5yYW7iZG4HzAAACVkGaYEnh\n",
              "ClJlMCHf/qmWADPZHJZwBoYmo965lzq0iXX7+ddaLSPWpXyO2Sn34f+h96JQhiiIgNlfJ3bEbMzx\n",
              "s0bBEghOAnxN32ZLm3k3LZ3iIPS02MObq1/8cPh0OI5aLR9llv7E5pjELEpfA4b6P79xzkvpCi3K\n",
              "bp4ml2sAqaKgaKm3vpuV2f7+lbR2XsYZA7E+7+1sOEzfMDT0jK9NPEB6+u6SDvhObRca3GuDPYY7\n",
              "knVRGd5pZCqRWnaXTc+2PPVMtIpGJoBJNx6xFCBteb6qLXl6J+iA7LUDo7YL3Q9wBeoGbsVmGQE8\n",
              "PMKBTmPX+NDHEdpBslb18l8R6Cwusz25kXBpTD6hyaCsqH/tqQXQ+bUD4f5xbdgBtHEzP0mHznd9\n",
              "Zc4ozlfkFMu4tEAgW/A7mmsbhtDLaLyLtyOOXpR6EVwPaQxYISh6W1vG0PoNGH6LkNvTlIgI/uge\n",
              "RzgbGJ5a2sEoBPZT0b65Pbxtv3+zAz65RxWeb/M3M/V4MOny7rm97F5ScOlAYM+eHPv9BrauiPT6\n",
              "1S2mw9X0ivU7JgsR8RCWDiHdxt+zLUGXw3/rvrxagyiAPuv+5KOK4j5VRrjNWcNUxSQ8XgGfePyk\n",
              "x9/5dvq1OhgGutB53jqvforeNsz+0Cp68m2timoB2avduFqsvKxWjp2drpaqo5zO7JSdV050U/2a\n",
              "bFjpAvt/LReAzvkKMdcE8VxkPVwNcK/6inImbi0nZEtP6llfOQsfVdH7glH3rxqTzuLhfoiW+BMi\n",
              "m2Gn+MrjsZIYOC6PhFljeKiWN96xhWwAAACDQZ6eRTRML/8APJsaArwWv24iiXSg4J1Oi3kmoAA3\n",
              "tfxIAuWpX3o4p+xED4E37me5EYkAJsv2RRmwYOuyILjjp4Ljv//0kHYe2FtfJ1K7im4hef2ZusOZ\n",
              "GjKx75D3+o15/cP93fuVL9HHkBURHWed3JkPfdmFnNMkc3XSq4Y54NUoQoIAAAB9AZ6/akK/AFP5\n",
              "RdZWKPn78Rxc65bPGGhrgBoAGZXsO0/YbuxUoOI8CnsF+vvcw6W0Piz2NvDz3dK3zbLm4T62OHJt\n",
              "zJkyBCOlh/hSZ3qm12sL8BsPWX2IoUKXfhjZp3b+qRrKf0Y5lHQIYBFGuJU6hLFmp5TcvIsb8x84\n",
              "z5kAAAITQZqiSahBaJlMFPDv/qmWADQCrksCpcAJprpMzAB8k0hetkrjlvd0pH5T7CEl7cuU9Wv0\n",
              "2wdq9ZaUUz/iJ75Z2xt9o1mQlHVUMBRaDJVGcvWHK5AXqFdZWuKHE8pDPmNVSHPT04R0r1X8OP11\n",
              "wMzN8bFhqV8xpUUHDKkmtoOLt5RKgIGVeCZj4teoW+wp/KCCW1qNa0WOmDSWtQZtHtOqaQLJ9SlL\n",
              "Ql+Dsw2LLQoK9UWIP6kLUIlAvbhtWIQfzUrZi9Ix1tpPMoIMc9ivkapsPS5i3yOeuUNZAC/ncYh6\n",
              "C1jmTXGxNyZtq5so6hA6D3wOd79G+/LVzXO9ncNxwaCNY2pqmATzZgQFL1ccyLUlzm4d8VC2DRLC\n",
              "2Cq1Hegetrgw8kXclkIW5mwByGTOtxvYKXlJYnMvYgg8Tpfp0aJk0Yvi8JfkG+LZ8Rbspge/SeLg\n",
              "GUY1n91hJtLI6+Gc1rdMDcxK2zrgBiKNItTL7u27G+Gde9BdVjb9yrOD6l38fZqkcNB9svhxUwL1\n",
              "KQRz9cNpSL+6TF/uaYaY2nAEWI830F5Uq6b2sW1DCXBNNS2ipz0e2L06/GUY9f0QHO0wnd4UORx3\n",
              "7sr4u0TBv7M9hkcC0JqTvv472BtbBfZcUC/nDd0jxDIy4vKEc9OsbVyeo4JJCVHgAI0+yusiovjR\n",
              "SzBbIsY9mH2yacqBX3cYtPB0pYYJ9gccAAAAjgGewWpCvwBT2GODaUEicIvS9g+3A9clmzPwAr09\n",
              "NIyyY8JpOwrEJn378/j6qtRTuOcKNZ+quttHZsGueCcGGn3eGKBoaouoys8e/jy4rGPNqWvqaawa\n",
              "5nNfqmjpaj9NuSX6Kv2BaeUNp6nkjQ+0Mcyk3mNOaBPnwsgC3Zw0ytUnl1Ft+sciqPlYA/fA7oEA\n",
              "AAI5QZrESeEKUmUwUsN//qeEAGROdTUKO8AZxydixbfj6xVTSOrRDvBR/l9zWX/iE3Ar6YOt/e/r\n",
              "eVGx6X/O+JoH/6S7YcYql0wH+IbY19NWrfOf2jp2z3WH7QrQrK6LxnsYcyUkaXbAXvubw+3E+3SH\n",
              "Z6n0qD+0zomi3kqs/E0wz8HCVhXcX6JoUF1YjYjuwqmTCDcZjvf2v8LhMX/9yHFHpAPUgwT2yTOd\n",
              "NCqeFSsEDb6UOCo8WS2cIkglcf6r/kjt+J5T0i/1Rjo9KOeMK6oeaNGd1jzxa2LNlP3gsFfmf7XS\n",
              "RWFZ62NW+ol6WdPF9kQ4v6l9oI2QNrOfh/6oNrpfElXoHTlbcMry7PW2ASXCXAvwUIjihwhzWq2E\n",
              "RpQxoOsyk7ySoLSqZMSbt9gAcjTpf/TRGM36iWISTqZrURlSwchJiELsEFgMz7W6wUSUkVG5wimt\n",
              "pOXhKjKa8nHPkNMYqWfkV48Yj8TiSp57TeyV5tE/M/XjD+vluoLaQ/wsZ237/E3YZuz489qLlE8q\n",
              "HKX6mCd8qnLkCHCfATKnzGrHjZLISmZXRRVHj/IGv3SvovcMN3+rmoeQ0Z6xBI+x3zXVsNZAhSbh\n",
              "nF8eSdPtpDZwp8+JcHfkPCpZy1o+CaoWUEI3/ppgqHBIK7xtjK/U00f4fnXTMsryOzNKGTdU7dps\n",
              "HaxhWWyqGOi76hjtXnnTHAgfUDn0IKmXll7epkpasm34/3d0GyT9HqlLpQaDWOy3zCGJus8XD+Z7\n",
              "Rv8AAACKAZ7jakK/AFGugEyvvnEB8ZvTPrc3Te6tnVBQOFblnV8AC0xG9v1YFKzhzyoPV2cUxmN7\n",
              "z90aJpTL8WGMajob36s3bMheACs9hfNsTQ6O4QlxlRXDaO149YCcMaojVOw8zrg4GynJ5ZiaP+uu\n",
              "/izrhHO5SywH4gxl2nWCwlDGj2I2Yds0q2ppYGpBAAABgEGa5UnhDomUwId//qmWADKjsI+0AhHh\n",
              "tN2hGdDQLqY7nltL8wNv/BsD4VHfKgak7BCHlH4TjptdDeVCt+f5pLSihg6htJtbZwnFPXaYhFCr\n",
              "tBzRftOHe7JB59b9QOrAayFnOg08DOonNQ+7rTwhTZh6ip9rA6/QDW/skTsDiaNcRBkgKTIqN1N3\n",
              "gvfBZZI7hbZ8eipnacu//iHwoWbBy+DmEqq0Hj+N8WIUEbZgcs8BLhyVPYJ2L82uKb3I7q6y98+5\n",
              "Oc/H9wHbGXvuj/E0C1Ev3kDER3XGxIH7mVpeQEocFthJoK7p2fWMiya+m6WLna5trWvsHPv1/f6z\n",
              "P1kwYbZRgmzC78oMqgKgZFG2jsEQ5zlzF5vvxyvf0jci/nHfxpbLawBadFEEZRQ/5y4m/2n3tAgj\n",
              "GaTu62BHnQfO3UTK/DdajmYECtsPTpltIe7vp924mPlXvBBB8fBwYG/Z/MUEjpyrLgfJw2ZNc+Sp\n",
              "DYD1GHaoCbhxtREgld//iD4miwAAAgJBmwhJ4Q8mUwId//6plgAyibIl/9f1FPxPt+zM+acLjGdI\n",
              "egBaz541J08c0ebhel1f80ASMd60JsHiBF3GvhQJc9/zBfvNvbqniPL3cbh++C9krjwtw9eYg3oB\n",
              "9fLrSe8rdpb1raXJGb/6dcGCwrmC/C1c4nwmrRqnQSCByebC2td9V+hzWzIQKHw4SIX3RgKp/mGt\n",
              "hoUXPSFJPbTvTdR1cYbNRKbc72WzqHJYEJ8rC3sx2EYhUHEXF9dUBuiYcZhEiJA18+g4q58nRUi9\n",
              "9G2+5kJqrldNSgAnoJdbhzusTQll16stLQ7NcvbUDeugMT42ORnPveEQsHyiBPoNtBQQ9poDrz0R\n",
              "G9u6yn0dq4PT8c5SBNldnwdj5zt4g8d3KXEwfFMxN33m9EdUiRPbZjCAq1G80EEnvqLBOwLxgSJ5\n",
              "IX1NJAoRTeGvj+wkJZe+111vcF1ExKzS59yRMSCe3XwgCeqx8bmHqnH+uyUGXme0oVIkLsDUwKLY\n",
              "BjogZ8ZL7GcAkAsYHjbbb6hYZpSq5/5myUO3s3HAFFmDJrZrBc1oHHS6VttQOHOHXoah74ja76pI\n",
              "1rhX4BGquTfx4SH5F7WDseuWegOMQEYlW9fZwn8xsXUvbJyo79TNKHX9OWBMJTDpVEFd5bemN33H\n",
              "FozOMEq2TY84nPer3lH88CiFApRb15knAAAAj0GfJkURPC//ADte/f/Oql52Fkhj9/Q9LLaGdACR\n",
              "m85JNtbRFDB5utWY6G45T9EnxFQOdWsspSDaUTrGUrjR3l5r+2ML/+fb8ytXjeDYww8nlnDhajBk\n",
              "j6EC73hfyuv5u/rUwjp30IFLc7YlzSZZIkmXq/WZXggm58m14Sq0pxkWnZuFOB8HZB9vQhLzSD5h\n",
              "AAAAfgGfR2pCvwBPk32S/QSmSAKvn/KgBuvN9sITUcKLDDimkXteIEiXSDfLn9cmTBJADeGPcSyK\n",
              "y1yAgTog0kBuVRAClY8dQcwpLFAYjNlKyMgJUwgB4Rz4iQfSuPkUTA+d2My8r1Euj6aZ4f7Bl503\n",
              "n7QpTSlM1JMyYm33OmfJmAAAAftBm0pJqEFomUwU8N/+p4QAYd0g7dxC4AS1ZONSD1Uwi3KkB33X\n",
              "N81eu0wjrcIKxjuJ7ytKktf/7+Ud16sMkJq8CCS1CbnTVrBSQDYdgcFlzXolLZtHHQfxH5ldc7yN\n",
              "puWbZSIxRdCBDT+94XahIhy2MceYj2G3MAcye4CpmmUER1Pe9Vns0PFOv7Yg+hwb5pXNhIxdJpPy\n",
              "EH+rSEkjnGd4PhZBi8DSG6j5rWm67ifiW0czfyg77GAHv0bV2d3ZRlFHfGl3lQAb7T3cB3AeuLyL\n",
              "Bb06Lwcb/j9xdpeYVi5vnMeWE7tMToJlIuxKAw259oLEOUOT315qjiHhTu+a7swCJCVTs1LGRBC1\n",
              "lsnarpOPa+A4KHNRYfn1mBTK2/zD3ZRiIzFqUCi3mRjIgE45DwJJ7Cvgi6f6GHLIE1gHZ3/L7lwj\n",
              "1erp+5up7bNan3JcQ29ytsaYd43IpC+Ue5MH1RhzQV4Jb3sWEuMepvD3AmIdH/96WUjevpcW84Xf\n",
              "vyKi7qAdiKgqEL2h0ItCKjM/JQGFdS7HPbbYX2EOoRdlbt5GAq34mT7XfJz01423jj4xhubqpanL\n",
              "q5EzzGbdJHtDd+gpcV7WuO/mHBvZKmOBIlvfBygEVLQzbJ2QKVTWIK0EJsduOaFqMhwkG+80lr6+\n",
              "1Eivrowg5kAW728mSzgAAABjAZ9pakK/AE+o2QoVLOAFvCr1tVGPGpnDp1sO0w7AGiF22XigyJ1q\n",
              "62IjppzjqUfdWrUATRT6SqXX7xYiHHOaKY2V+S7BHZgQYlGkFYsdLnxYQvONZjBtK22ACOBPl8ez\n",
              "KHdBAAACJkGbbEnhClJlMFLDf/6nhABifcOVce/2CQAt6kdl2C3m+1sKvHojtyvYXT7KD5C8zYiF\n",
              "MAyDKtdG4caRX6HIhEpom9bnXPEvKlRrIKVoTE5OPYKPqBp0TZQOLhumx7s4mE1uTd1EtKwd0E6m\n",
              "Rupwbz+OLZ3Ag6amTll9rXp976R+IvUQjtuIct3/a7gOBJJFldrsvp/QhhZW9bV2mpNr+7tZQkeD\n",
              "JO9nTfjl3B3Wdxr4Vglnz38hQqNQNo/LK1g1TFUQXHhmLkGy0GJ/aWWr0g/Epu1hqFDIujDr/HCG\n",
              "wbM9Mwa5YaGyO4sxjcPWU0UgOt1la46sEQUpMeafR/dydA+EZ0tXHe7djJD8pjJ1f/CZzWRvNBbB\n",
              "Wk7AMkuLujLTfpIclnrjIS2m49H9DihxAazyX/jti3aXgd8h7PnVXSf1eMQaOReC7RSlMKwz93oH\n",
              "W5Dfcxtoo9UNqygilfbmBQIJPlo/9gA1W2rzLcAcqWDfFcbk3sBdhfuAQfRjmzua7awA1kKjoRJ6\n",
              "41cRi2DfD3vRja9BrwXsMCzWIzn4pDWQlMB01CJqvc0SHdIDyFaabMReU+Rmvj8wvuVkHOfjVcBr\n",
              "4YdyrVfF498WkXWPsVArR65+75eNN/T8rlcBY8t9rAeXuobOysnfVp5WjR8AepFggbaddD3QKLph\n",
              "msx7z39UOHXrox+fI7m+UMbKNj6eJIVarVXvQ9NqwKLzUzjzEo82GJOkJDwAAAB3AZ+LakK/AE+a\n",
              "RkqCpoAE7byLb7nVvWaiU51UCXn2S5l4AQfkbB+dk0HHwoAAx88IAppaJWaJ6G4g+1sxxpmQrrxW\n",
              "gdWqqXTDWY4/18VVwCGcdd63xNehn/7wZPV3gcciyPF2tEj8xqoxdLLbMQUf65mpV/1oFbAAAAG1\n",
              "QZuNSeEOiZTAh3/+qZYAMDRBDJGwAs37GLi9O5xQ4qoGvW+fz+BeVhVGnHCNTE3sTXgtt3blaU+C\n",
              "PMmbY24gawXsonodEfGlK7PD9bPckLTFvF/H8SnIKXOKhc4H7yULZRntYl7/0fPQ/nVsNgvHNLOu\n",
              "lmL1Lim4DzgCy/6yb2IE0+0qtOSUdOcPJMciwoIfEim6/vtNT9X4xFTmBdsRutvXB0mHrE5x+tvd\n",
              "u9ezbFtTrraVD5XWoYFcjOY1ulVHFd4CbZiF8DRdg/X4wWai/tGIbGXfKb2qn8YhdzWKHIWSN7ty\n",
              "n1zaAlImKHfUc7ayocpPvfa/q5YRRLjcnpsX5KOfSruX3z4+1Ly3gyiZbCBR8nVh524ThYLCdx61\n",
              "/kjLc3GI5DmPCaH1EhMJskii2iaUwEVKJlIjTzIxzAZyGg7iWkhXn/rlREYT08w9ESV+LifU5GTH\n",
              "GFDLGDq1PJipuNK6lmgcvclCwTUKUyrQck/yC/lCtJGOvlSgdaookDwddWV06vL8iIiocJjXk9F6\n",
              "d2BTLky60Om7rtsXvVdFEQbt0XWFAhwp+qxeAkQpaxysxasQHdEAAAIlQZuuSeEPJlMCHf/+qZYA\n",
              "MCn7Sykjqaz/CSX/h1jrLfRznB+m+KtaScqQStsgAisZZoOEa4y3TgBZb+Oqfx9RBEUqowJNDm9S\n",
              "PvcpZt8WbcgDymB75eh3yZeMS3hnagxmzV9GmrxP6AbwtJhCnNYJbmKXafCok4jjfVsrBOZuZ7qt\n",
              "xBciHKh3YaCtmshUqXoJKs0qarPxoXEUlfHEbtRmtk/Wg+eLNt5IgOkfMSdCjRU7j6HURClh4MrF\n",
              "x7P6hsm0++ifSyjEAZ7vDGNd+VDj4ODjj4Z0v56a9xYNEyvSkRy3NuUvKNbGEwEAu3QjxPE6s5Kc\n",
              "BYkc5Jw1vb0QhppMJnt2/B+C/pZXzyt4XS2mpxfU/L/2a2fNCYfjD+OGog6j6t3bKq4PFq3oTUwK\n",
              "Oyd4gvNsRTJKcmh/0+csAFQM+Q12pUVI03CN8jGTY5h3eZegI6kMTilnVNcnBLWMhm+f8ulSLSGj\n",
              "qqBmdmIBId/m99ITfdtJ63YkoMHlACJaBZzGQ5N1AiUZmzrB5tf5QlejH3YqXFer2uGPMMM2lMX3\n",
              "tbB8XHL4toW/uEW9J5Zqgw4M1klZAJOLGWkU2h5rMAhOoUwSi8zPaZ6svsXbQ6WY1OYJlZ5qZlQe\n",
              "ZvK5ucujg1CilxmhAITUqqjf5oDbRGpEcziFvqXUdQU+P/dXi0PjBhJ/9za0JMkkwbWDseJl5y3X\n",
              "x3EpuwtZEKeDRVIce/PRkWiKJXPBAAACl0Gb0UnhDyZTAh3//qmWADAjxFbr2pmhE70AIyoicaIR\n",
              "BxA0GO24qlC+P+cUWl/vyb/vOwuuk6fUJMP1QpPVH9sWLfaKdb1YR7jW6mWdlVJB6mBamDePMPkk\n",
              "QsZeL3VGe4CE9A1eKDUns2Q9gdIZJaQpmF6dkTkexp5kMczgitd4LSH3yC/AhX9gcD3usMhY1I2Q\n",
              "6zdobwPA4AHVqNk4Z+tjNclV8jklD1ecQ36ERct/W2wGF7NI0h+v1/5Jzzjw+7V8322L2fJ+svo0\n",
              "rmJxn/AKOGBA39WFKNISCeG5ocbPDISFvCwUmgIBaiuto4UFIROivK36S5/l6t9bEYfqhjx+3UQI\n",
              "VZxH6JvOCnrf186qrnHeaySGSAUENEQdSKdBl9KPzzxmqP0H9Y4VsWHAmXRp/J2PO+BKJz9xT5qw\n",
              "9oo3y42hyUGzW1EE8sn1/8BubE4PpvkBSSqYBNuJrb7BawpMQM6fQ2+vYou2YBB/fPYfk83zBnEW\n",
              "gWpOLu9Vh4BszdwpbTDOh+eB+6nosHXnJaGrGYv4pKkOTWTnij/1xV4LlDI/InY5zCvrejaALml4\n",
              "TBcSag7ynlJyo51W8sIt3Zu94Kb4YTO+LOwxww/mgKYlqGlqoWL9TDcTMtiaqS1P1aSfiNbxy+g8\n",
              "3fU21xga+VpMg+VfYnygMmJt6gQNG86BE/xj+EN5yA98Kp7Qs5ElA4kEjf2iFHoeX4Sd00LfCFKl\n",
              "giuPQ9o215sJD2jZd5OPHRw2cyRYktPuYZai+6S3IuQZPA+dP0wDFm0eH4y7bR1K3varEcszR0//\n",
              "E/0QN0iIxGtnhBpjFFGQvSZm+1dnhrhNFR08/W3hY+TuyXOjK2nQaVTqFL5yhkk/HD4EAV3orEGO\n",
              "Ww622wAAAKpBn+9FETwv/wA3+prmT5tMyhulsmeYss2cd2vkynPIdv9bSDCPHoYAZrHM6VURfyTB\n",
              "pVWWUg/Tmt1i7PnGibAmgUkALqPT7RqoiXptj/7e1+4iYoUkzFEWHgd885rP21vpLnoPrf5ApdrT\n",
              "UDMxVxGu54LQBUtxNg6FVbcxeab6xYMxD1FXQ4cBsbs+fmJOiBV2+TfOPWfnk9bHU+yt4RomXyfV\n",
              "HCEFqAUFNAAAAJcBnhBqQr8ATWQe04s4zsmV7ADP3lrVMxNMJR7SZjksBbwEKK+JWHuEkzaxTiuW\n",
              "RCx4BkQlrd87Rnz/3ekK970GdsMvfAbC8rs8aDwnHWRADz3GMFkjqF4vpwnVnCVNwGaPwQdMSZ8R\n",
              "Tp6K2MehPY3ZMyS90dKCLffipsuq7nGHt0l4zafDiP9BMrGbxY+/yWQdFJCcIA3oAAACfUGaFEmo\n",
              "QWiZTAh3//6plgAu6h2h/wdLoAA0swJ1DsmnaS889SX++/QqE3x41uguAYD8/m+i69847oejB3bM\n",
              "BtU3GriPf3X5A30ruUPAI3BsQ5SXMvrIraglx8ZHEJKkscDNfdKiHtXo8NZh3IkZA6svx4Zcsl3x\n",
              "1hdsld7/CDVEha+u8CdTef4b/bWVu9BlA26fUnNdipJnEsCUZrabMo4WzFQkugwCLRARny1/gpHx\n",
              "2pyP/98iP2WPL1U/4SnxfZ34bLKDvN7/NMhs+E/v6oCpHjXsnpvmGObHWmk4PnUefo1olEWEJatb\n",
              "WJx2gWN4aGj+V/ni0UBGr9lOphaY6nl8f65QuXBOa1qje9/BDkSMjPTVHk2KyAsw9oVQ9bssI1ZN\n",
              "xcwSIOaIBA0tkEOVxaXoS/GD6/I0GQt/kKUXN3VrpyCOU8ZBGzyj/sOveuw/KWwiEPYzHuUxfV+X\n",
              "xK3aOPRf1zL8gez9/UKgDPq1Tk4OgmH+tAGIy7lB+cMaSq1EFyQ1qQP1j9PqIXO+ansTZMF7f82v\n",
              "jbD5igtMTJkN9IkqIAP0HGkbBgThAKw7VkbFPnGvKIKGkhc3YgnXsEmsLjnrMYgOLRvhwjjt+IES\n",
              "FDJXNYQwxXymFGEKfWUbhq3ZZGWF/Xk7asieeE1rhbjvY6gjHyADidkZ6xMJpqo/VgFYHa0U5chg\n",
              "9q33C4zm5UstuCQMvxBayWZD3INkwzo++Mk1BZdgD/hYMiTFCVBuW4vXvqP9nnwu2cDCVfdFjUUy\n",
              "u4LCliWdm0rUBTkHRqUzOemHmMCag+WG9bzoj5T72dwfIWjNLpNEEmsP+FBGUP2b1PBSjNlheVR/\n",
              "N0wGHP8AAAC1QZ4yRREsL/8ANz6AEtUd+siRmQ5loDLWrZiPbzZCF7j7TPjHvM2JFZ8PwiHGMy8A\n",
              "Fq8phU/gT7sRXG8ZH52uYsNbVCQPJrExji0vAVXYYDR7BHP97Yolwy8UhbosE5HKGuSjEFF6WYov\n",
              "ovvhrrtkPXlwf/4GX3nAeihi/K9niGVeipuPud+h/LHFPyqU+Yvp3enLTF1PuUTFg30vCpKhkbQT\n",
              "zBhTR+/wYUAS2DPInuinAbMqkAAAAKgBnlNqQr8AS11IPNi5moM0aaO6eQJtaB4HPT9cHKre6Upq\n",
              "ojyifmmXeUhrMANcGw5quvMaBpRFZF+XKp8/mXdqehFO/RDnTfkLbtVrm5Fh76ehvkoAGPBG527s\n",
              "c070oqyQGNz8zrjcU8PU1Jew6CV36rhdsvVmjBw/IxaUxAz5UtEAK+jLivBxkHQ6voqBa9E8fkcy\n",
              "Rt/IVH28D2N6hcjn0vkc0HceAdcAAAKtQZpWSahBbJlMFEw7//6plgAvHZJcenMNDnsJ5sUUU/Wg\n",
              "Leo6xuOm1Q+1ST+bAU9vqtVoAm+V6qS0Ew1hHYZ64EpmwKxzEw0+yXT5zttqgjV6qREGwI0IOhO6\n",
              "njkk5IwynJI1kVXefGJ7gT/dVgp0psKc/w13BjDDOBKBDlgGpACK3EATB2nyJr7ouw7FR7Sh1bNP\n",
              "tWchqp54VTOZUi2YopdfzIC0RgTN3V6lsSbnmQTVkEVBXArXXHf1qEv6G0SD+0xJuN/QT76VtHF/\n",
              "CNGhayuft9FMjjJkiz/86/BgubW7k2Je5M6PuHW0eI/t4wJd476+AqmR8j2nnuBVcwvy7os+QaqB\n",
              "Xpiu9r55/LPyem22SgJRkVMKktu/IMm8sailGynfaXRNuj2z2FgDfr6xv3ATRFEg3fQEWHMmrLSl\n",
              "Q4fiJ8USYq9yFi9SGPrJHKgRDrRQzYLhmkD5koFZ63heL//NNhwZdHUbjclVaDuphEykrz3azeD4\n",
              "eYA7iR/c6BIgDSYfH8Yl0AQWX0jmP+NcjBHPczTJiNSc12qlbOhet8acs77rFuMWnYIkxIqBL0Or\n",
              "MJGmuPyhVHm8nNlY9F0e0dtPofvC5fIHhfnbDrMfsC4IfB619j6+aa5Af44ThDy+aRvYylmMlQrm\n",
              "HZiUuPdfcJR7md/ul0u9vz2gzwdmH8Y5yQDQy6IaRIMRVsw1qchgWW++g8DYZ/1SObHjB6jDFEzy\n",
              "hvi0wWmMad4MrE7kKGV/e2LtHNH1Z0mHB5w+14Cln2cYdM0EIZAvDTOikVek3pgZ34kvruWiCt5O\n",
              "c4q96ECUxHZDVFltrwejH2tOKyS9LC7rddSkpVyKTPdDhRxORK59S0O4/bRMmmHZtLnfCphS0icP\n",
              "8rkyJ+KXob9V/LdcMaEXk1dlS14ah9VaEQAAAIUBnnVqQr8AS3LBvpFHu/zze8dJfo+Y0iUFHLVO\n",
              "Z6myIREZQ8TmzCOoBIlZ+pAA2rrGptAZyNehYmzKLVeEIWtnjbs1Twsf7J1GbTDj9VwV7pQmv2rh\n",
              "U8uFCFQ7cE6k5I+sDsJ7CRY0aFOUMvSzwQElDYJeAjLN0Zw6Z4tszBHPFKslm6HpAAACoEGaeEnh\n",
              "ClJlMFLDv/6plgAtujePUAQGx1Bq4gqWp4CcwlSgRSDldJTQfwfKRA1E49BN0fKIllPGYywR4pk/\n",
              "MJC+Xc1GYqVNB614UJ9DYJn0aGkpQsvHZhzr6+2S+Mbqgc6loga2R21P+ODHwLTDLqvgeV3vKGyr\n",
              "80+dTbonXuLMh1+w3RYSuPkN09lCO+rt5FRn6ZYW87s3/xMADIfIZe+S5NxNHrT+dWauXhpnrjIt\n",
              "YbA532AQoupc372Qfu+tFdSXmF6vmAXU0L/ZlSGrcF/3KYPd+HfYUv/axZNaCBRxahpEDW1etnfB\n",
              "VJIH4U1XJbZHvU4Ibhl2fPXD7/aP+Lrh4+eHple+g9zW7pEnSM4NxK1s+FfQ1EgD2SPoAXQszXW/\n",
              "R1dwqakISYjCrXZtTs64XmwoXFBWAYOmyrFd4ccXrBKY7Pmn95q0RFon+6hejbJNliiTmrC/x7to\n",
              "jitaQsD7uUqAwdgMwSThqGK5ZvjaFtCDP82Eodc1aJ+HmluovJX+7Pg4//3sas3IG4DJk/MAJVEJ\n",
              "w5r5F2igeHmvaJKXOFBNWAJZCrlh3QStcvQ6GdMKR8/fMr13NvBJyHY5evLeV/+7oKwZTom9DwF3\n",
              "l3udzQJDDkCUMufoDv/H3Ls/fFW7zB8xfl8eoMgA1ZZfuX5Tx+U+NmkGDo+VGITGCoYQsPzecGEB\n",
              "PyZhm6fAkv3YxvZQA+R9+fX0CECu3Cv8lPmroAuim9VNJnVT3oKvsL1/qT+ac8PRgd7VEgNd0OWQ\n",
              "YxakeS2k0qNXDxZS1M7l8kV8Ts/2Eh6VMMPnbaSpXw/CGgCjZZCo3JqabX0c7BVIa4HPR1gegUlC\n",
              "GeBc+uMCUd+aTqsVkwIpeK6nv87X6A6R5gcdTm4bfUw62ohLrLxJSQAAAJMBnpdqQr8ASV1IgWHD\n",
              "XirSnTmY4ordTCFBjCSB1nwn5jQErSQNaaJykALXT3bWrVD3F6JdmLEpLrUQhmqFR7k7rrBYmvRt\n",
              "Ze3THQJHmJFsSXdnfGwtC2s9T56fJQV2ebL4hNIKpUrHP2tRfN7s2ZW2UDKSWshn+iyvDtA+Itbc\n",
              "N1hDyD+0iBfQs0fy7jtoqxsBE2EAAAKSQZqaSeEOiZTBRMO//qmWAC3Ai2jgqgbzb8r5iE2pVEUv\n",
              "bVhnyCjGxzljaKFfl67fWHlQ8VrP2AJEBALxUp3T1YhI+VZtnDSI/mPZmjNfCCaiTYUQSKbCfF5L\n",
              "wZ5DLMlHw5cx63gazZatpNZYoJkytxLmiJNo0RgQlJRj3+MJjNK6ZkJOE6La/z//+haYfEENlV+q\n",
              "9KDNfMIuEOnlm7TpZpVodjmyzunCPTeqYx6mGFnl+oPLWX83cn8JgtVLhBuk/dFfMYRHHIbINzac\n",
              "dt+nyy/xRTnBF74DTmCxhJRUtHvD47NHa8pFJhHjGBE1mxRR5o9PoQWYKjVtSBot4Jro+GBjUNtE\n",
              "sb/BViG1oakxUMzhTLhJmElo78JcIDsHtvJk39ZgATb36gF9jdMzn3A+J6alWsnTFqoiVh4FTlx3\n",
              "ZvFEimRpIKzlMp9s4fGpWq0aHfRy3lnPif8d5QaMx33i8cz1eMWX7b9TGXLuZ1fH34qf5pNA4uX4\n",
              "Fm3KH5SQFZ9U5G+hJVqCot3ObMhseX6KKV4bp/MOGv13sXdW/NrgJHY71MPCC1xteBicd98lNJ4E\n",
              "+1eCTpk/Jp2Reh6ej/qTuOWXOBLbsWkEGx7dL2PJRNVvNMB04VIIrH/onJXxPjXT3+SjFtGGiuA7\n",
              "tyNxRTSATwQBqKxQXWWdOaE6cPcioFcHRaP/TYoIG6R4wG//ZdloZv8v9VKBLDTdreoLswsvwvew\n",
              "lDbS2Qf0RF8v47yLv0vUZYUMgfHw1g+c8I5Am4uLucMU43tK36s4yp/Hpqwlqf9LRdwdllPtv+hM\n",
              "YYfvBj/gjrBY7wRxkw/eF8uL4KurgexoXRS6brIFyVT79c4LBs0thtW9g2VnInIJXTQeNruRLwAA\n",
              "AJ8BnrlqQr8ASV0uAa0bkg/plICo3voiAj0/Y1fW9fAA4IVoAuE2t38ZZOoFpGwLbszJWbXkrPRG\n",
              "IffS++in/UXQNgw+KD/Kv4iGPJ7R5JMUO9WE+6UMLw4ZgCkzGb9RsfnRkScW6aOalgqtHtoyGaE1\n",
              "g7XeyG8YugoKVFj+xwuJzVu5Aj4NtB6syLvrayIJTN5pC41NBXFOjiumm/qgP8EAAAJ0QZq8SeEP\n",
              "JlMFPD///qmWAC3WWRvfbqDtCzwyIw1H4i+Ip/hZYZsO8LnPgwSsp4A4eC1/oyxUq9U9SrHJc/FC\n",
              "vL7oIwEFYo2l3LgNgiBv+CYrfNtDeZuHFF7hjjovuRc0cESmBryepfzGRk/Kpmu4t5pWYNFVrCFp\n",
              "SsKgk0C57luW26eWM3rQqOhkbcGEC+7eeh97O0o6jTS9LCfG7zqXWdSMaC0M5prNCDD+CR0ZH2qa\n",
              "c2cd42GNY54j7rBC23DRZgla/BWs2fyyn7SEU7gtlOtDbARhaXKIH6Q3DpG9hjuGwoH9I3Ph+YHD\n",
              "bRkQheITV3M39MwyvX0Dnx4+RZCikIwmMf3y1mHOlGGOOhhI5wWV6oGNmA9aOwqCGlD1ywW4q8p9\n",
              "8kGdrfN2kqt9FQ3Aqopq4OZnc8ccQfeT5a7DjMsXw/DOhy1iAM9OXyaZFXI+KFP8kIzaQclGTAoL\n",
              "wF+nnc+i57mxpmKH9pWVA8pV2hRK1rpfIHQw0IIitSETX3QVnPAjHipJW+Z/pJv3cRCLRJ297SxN\n",
              "zpdJ3CGf96yKvu1D9mDNcYlcbUqEsnR1PFUA6nUWiHJw//Jj73zPxy4El/cjelwM7+usKHJ76loL\n",
              "eYfuYK8+g4BcTmwMIPS3MAuE5RrA9M4M0aqWidDXjKgrpkD52sKBtW1OpvDLP6vMbb/PowU2YyUZ\n",
              "O9QCfgNW+/jqnztvyWRzTZsvcDXxdCv0Q7xk/9n3lx2uQ1LibyA8cqJKbtdvx2nKONzNzXW76Rq7\n",
              "WqgCT7hKyV/13tzyJFpYhmRJt1jskHtDM3XaGG/hHzD8dNPqubw1TfBs45VCe+nuvpIB8wAAAIUB\n",
              "nttqQr8ASWQ3YggjEsLm6q5W6giyM24BXAAN8dbPiOMJF07Djdi2t9o2sTVTLtj4R3WIOQaSVAEs\n",
              "qDfi+w4RHzk5CbvwHpn1OmrM3i3MlupYExeIokTQ/qpXY6uEaY7e08/ozATXI1HwINvtjmhnCzFQ\n",
              "+lUsGNKtD7O7G0bvGACJ2sHHAAADEUGawEnhDyZTAh///qmWACybk8IymP3zL4df2d1qEqTxmmVR\n",
              "IvDRVLuiAQmp5SDXijRlKkI3Syeixq2ZKWmaoHZEmTY23S4eTHJHW6mP5Itu+yfCMI2Yhiwmr75p\n",
              "Z2DdYNJPnAXrXVNjgRzMBXgSjPVjxyse2uxSum5C6PK2P5iSYNNWbQKtPMbdL0eJW/pPYStaxv7F\n",
              "HI1QtsfzuaB3amkPgE/qDb2/0KkeiSu7vCil/CK/rJSEZNKIOv+eZ55fxtV9DGvvfiMs5IsUWNH8\n",
              "b8b2YFUGJDvA9HUMb9HF6V/NbpvJeKLlf97KWgzzw74OXk8VpRRxYWiiDyKaSz/5QI1Ft01boUq4\n",
              "qU5nhF957vyyui4GG5eO/629kfbI9YeQdT87G+R/iUl0R3AwZpqDFmN9Didca20+PTojMSh80xiz\n",
              "3h5G47oUaxYebuoYFdPrM66AiOWIDEgok2OIy/FoWJODw4HU/ZbMlUDjiw8dqOkgPFYR2/ZyW8GU\n",
              "zpdU1ItPKgwdNmFpB4C3hWpeazJsfn9RRAhSLGNSaf05bLdL1ML/LI16DBdmb75dFiFyIj+mcs5H\n",
              "4+juJ5kNz+5VGYeCEWcys4RIljNgySjDqbqpT1eeTnuU5zEsrAcO9Q6GprHa9faIeN5K3cZQRopL\n",
              "3srAnhu0yIpkSNZQSeuxOr0F3Uy84hSwBviLyPKvqyDY/7rGI5F16O3Nbm+ZYlMXq1jZBcgOWCip\n",
              "lgKm/SBkg+dmpXupNOgWi5CLaVf6eV4O0QVVIwyZCJfUWBgFBAqRIOTVkskQMAileC3rrAyinL6M\n",
              "Wwi5+sej/PlxuDBAEnUkdNyI1+YE5sEaUS0v5SKFZZPr9y+TtHaKfhJuhmUi64a8tbjr7yn9aHcT\n",
              "2T9e1D/lOR1Q5ZJ0ybF5OR2l2cNmp/d7bIDY3R+Wot+IZGjQn/Z/rsWlH5cnAoSW3Wp0tywtQG1J\n",
              "JW10O5rJVq3gBJ/o6d3h/TjZFYUlD9yKF/D38tqpmirrF+aHNO0OCqjNtNaHg96AZMsyPJV8s3Iv\n",
              "ECLfR3v/w+CBAAAAwkGe/kURPDP/ACavjCQWKPCCEBlqrQsCAM7vNtro4AOKPoe41tOfnALaaTdc\n",
              "DQJFkiT1DrWudpOQ0/k7EN1WbNKA9Q9RAegrPno6FE4C3gJnEPQuo7kJ3WFohHQ+UkHgbfTXp7M0\n",
              "ROd6NSMYqHXYzTIe4xusHkumTdJFVLU0Y3kdiOj2zX3Ff+dtIoeOez24jbM4t4oBhkdu3fGcFpTr\n",
              "+Fhxbls5K6xnCIEHifSWp9reN9koYNNNCRGg8+bEkrnz76N6AAAAewGfHXRCvwBHdfxD+IIGmH7O\n",
              "EmregBcAQABpe2VeRD94qw3fo3Gi6FJFlujGQJLBBKynSN+ic81bByiHUmfgdfXDF22VvfRVxqWy\n",
              "qbcq5uSH3m35DeLyT+fqRTjTpy+mejrkemEzdTkEReTuIEVNSEb1qtEFEz7Z5mDZgAAAAHIBnx9q\n",
              "Qr8AR10TXuLYtv2+aC59c5Xzbfl44gADhj7e9fQBOsLhe4XRPED4yqOYQy8O9SuB1GQN5mFxwlgh\n",
              "wCvpKs0Zyw0hIXa20qmaYKgQldFF26Qhhi6VJxIHSuHtt3/bim7/9xoAL45ZftH5VD1IY8EAAALL\n",
              "QZsESahBaJlMCH///qmWACzfMqaS/D0AE7eqwt9E9CCxn2SN+bvowPeUwHxulDjeiChk5xF+v9+w\n",
              "3bw/n3knPAcbm0vaP7rrELiWsO2FnNJL63gPjfaEYBgLd+P40DPenZqVi18GZGb8JFGa70ROdBPb\n",
              "NNVbBcnEANRKCgghrUuRmfNya1Krqg88YtWM/AE86do9Xbhm4gpYgdpiLptSdggETHrRteDhA2Ho\n",
              "ZRHWwKIOaX7IR1AH157OAQK8LdGFb9mjvWQ3ryNfG7kqlpV+9oM3tbI8seMc/pZyqlbU16pugrlk\n",
              "bet7ax0U9xRygm3mPCX/a9boXt/u4EvTHQa78svJm2adf/nF0HHs0eF3GQheiWLVivb/ZsGu1F3a\n",
              "2dta/lWfDyvGqxXtgZ2HKKj7/GaZOZo+LelXX0emjrKBaOccSFs3Dw75Qf5RuWI0h4hvDtBGW0ir\n",
              "rQGAEABv4A9Smd1sGjpdaS5b740YOEdwPb8R9TnE/Fg+pYlH064wliCOWetZQ1jJAOfOg/iGVtjm\n",
              "RlzuTX3Jj8SZ4kccX1JxtL07T+QDE0KQVk3gxcCjWXko2I+Q+I1ETLYo78smEiORgLQ8ZN6nnRme\n",
              "3orHEUzQ/1HWTLsiTRApORbw1K4swjCAGdFBmEDN1cSspVtZasNCXsIbyo90Vhb0tG+Th79J0fJB\n",
              "DOf1ZQxnaEJkFk16+8+964sKfVNvVHz1k8txZK28gOJ6kZHWoc8wy/EwfKZVw49UvtYBY2qRdYeF\n",
              "aOxk+sUKfgQnyCePHf+LQFUdA1pJY7OnAXvd/vnmrJZAe+/2hj9xxHU9wiqE+e6q40n90SWRw8v1\n",
              "hUlgiPcyDcQ3raWOgdXaBjfjxuV1OwjFqyNI6IpIS4RoUyt+Ndut46Jdw9m34zvKBE/3De3losPl\n",
              "0xCPpoVNYjaGW1OczogTVoZ/VCu7WE6pojs+JZYBxwAAAJdBnyJFESwz/wAmsVKSA2gAfujsVzbl\n",
              "G35RBTZAR6RBlW4NetQ7rzTFBpsr4WJuhhjn7KdxTXeQqkIHaVdBZgfJwgmUzodE2LFzXcTrFcOv\n",
              "2rlE3zTdZSdG1plDL6lVFRWI7of1N2XB0fzhYG/5GwLiBzlH3TxJNDJ5Kb9WATvZccvojjx/lcBI\n",
              "lPtUS/W6MOOVxmeXhLzdAAAAbQGfQXRCvwBHdfwLTFKo/u5JPlfrnibMbrF3HavFcDFhgdKtfS5v\n",
              "i0hXnVBFTjbCTFrvC9PfbTgDDZgAnY7KA36K1//TB7/FObBgU0y15Lpy3DG61kWNucJ4wdIkE4De\n",
              "LuduQH4LnFW5PzYATsAAAABsAZ9DakK/AEVyq3YgBNS09i4HFkfyokQP5dhYg1pOezvBxjABTw13\n",
              "Alo5UFfhxg8/wossbYe2pju8HNVLMxbZiqUwTUGrJvEoIBZW5YCZVvbIy91EwVRzJF2ToS/OBLqe\n",
              "ZugaV5vAL04bAQH5AAACx0GbSEmoQWyZTAh///6plgArgIz1NoAdKgW/+QlLg7DgofXSEF6959ak\n",
              "O/1yVjO/ueicmIXyJfbZY08ySY3ZsPlFq5AevrIlrBZsxmwgnY576l2uc/D7H/QjS8vUjda4y42m\n",
              "6KxiG7lFSE32v8B8eMQox2nlmaS4A+MozZV4tG7/AGLDKok6virij8DQ+zA84XF3P0rjgN3Gylkz\n",
              "0GXkS9Rn4ZvK9cYOWBCyAlnKJLB5CujBExACUB3ztAJaoTCaXe/+9mmkdOyXMwB78Tp/qYrHdujm\n",
              "4cgpYXZYoQTv8wpj5xVtRa3fMDeDbUrIGjpq5+eV4qwhKE8eY6hu+wwUHtHemh8Fb4SujRboDPaN\n",
              "fiAItgy3ayMIJWVr164MuQK3LICfLyhfur2fiKTI/tP9WOYtrj5X/SC/v13ah85Km/cv/Fa6pkte\n",
              "xGSA/o7I1u8fv1B1rwRFS5wIZKq+9FqxCqrilohfgOcTO2MgTZeAADKMpSBKz629FDOvojPXV/WI\n",
              "LrZTqXO3BLK4clyVcWr6DuTkyNaqxxKbvYAcZvlAQZfQ6Y4dM9ASBN6cfnPvFHbT5vsidUXKd3v7\n",
              "waIaSW1xPcBA4+PQ8Fh0ARf4F+LfuNICpo/x/YKbAazdao+SEmLtnsKqU59Txl/hRsjO6qa33UPc\n",
              "Tp+p/rQengfrjtMz5F8fxHsuA8uFReAkaLjrQP0fwkGGV0TtPKFl/D++oADOGaYH270ykNreZwYW\n",
              "+DZ7J+LFJZPP09fs74TJ/fT718Hil4boDQXUe3Iow40fSaPkSOpfUqSegpV7qh5liUiA7/+ENkmV\n",
              "Dz8mMr2dTsY61W+sT5TOG2D8FVVGUwNArLf4pdAXdPHurzGO6q+rSQG7u9+mnBcPK8bcnQ25B9XO\n",
              "S5boSZp0sterASjEXcbusYqwdmgc25AvhsQeJ1STFYyubFdvqPUkJT9OmQAAAJpBn2ZFFSwz/wAl\n",
              "tkzLSABNXGaZlrXTgPWO0o+xYSvdBjuFcnOZDYidnfV/DBp/RIDanI/0k4paG2jFKwiTedBKvaUf\n",
              "0oYdN+56hMvcdsgW7+f9XyFRJ0Rh2HFeIkeYvzyqnRqozDI64KmpR4u+Co+pHl5KwbtoJYv/5Pnj\n",
              "PAJGRDmCWho5S868Hcrai/4iXLvA2+rqxeeeviJhAAAAcAGfhXRCvwBFdebsQAmp2NH0mSIL8THn\n",
              "lpUokQUYt9tu1gTkNbuCxhb5XlqlpB1m8AVdlX5xEE0B/DnzFg6bqmaxzgwDr0dXbcMcpNlrJ/bS\n",
              "WHolwJWbqH8bkni9I3/G8/YtDrGBD3HbzUMbQQegcEEAAABmAZ+HakK/AEVywtYgBbwrFLnvTX4x\n",
              "+ykZe0ta9sgo+p88i1L3Ev7taGXEVdQ3NOUvRTdbXV+Gmtp8Yv9yT/ow9TWlzX+D56S5HpNL2v+D\n",
              "TSM+B/cEY4DrtnY67sCVlwf+oLAKUOOAAAACn0GbjEmoQWyZTAh///6plgArgIuRtoAoNAt/+f6l\n",
              "nPPwokg8zHDougNzve6muNpb5C8+jdicsi2w9Z0jv2paXTbS62rVND0SIbvzKvBnEFed1zZzt+UA\n",
              "6VlDapkD38+QtiakX1p0olWga5MgZ5qLh8NClK5Imx3faMzpFCijmdLsIMEm8SjmDus8HiU8hRr2\n",
              "kgWdR0kXB6WipRrQNbrwv/5L3SXdtGHJV29/R9wgPBRjMg7FwHBv1eCZ8T2tqFETjSmPTnwSX35H\n",
              "ypf64cvSVHB53P0XVYfM1hNO1QwchX8gE2OZRQzVGLiCSGez+J8vSiLQLwGu6UiDakYngPlrxt5s\n",
              "FOnW9A3xhT9WEyeDtCHktlT5MfWqG7G/hSz4sA+LuFx9R+3okNMraikyL39dfbf+PnQmgN1bq121\n",
              "EKeXaIKEk5QMzPU/jgVL8A6TQYBFBb0MWwFQmgABCxpT+Y8WXUkjku1oPjQ43kuyw+hZQkzmaTlg\n",
              "/hg+hg/oW94+L+NoWNEGM16J8jbyqzfOiwvUnFNvFUKpCqIbFEg/MU4fI9s5uUxiiBkzxE1/1IlH\n",
              "h0mytxceZSrdb3ueGx5BI/muZVXdBE1KaqIZZ7gUvnNZkaMG52aAfqziaQ+HRmqZ51qZ70kasT/1\n",
              "TlSUlZnoKlKaf5nfUb5RpFgTuFRzDe8PwxFbEfr8RsreB94ABkdNQpNrOB/9sNkD3gKvbOgz82qY\n",
              "dB6mtefu6qvw33ATe403nz2Dvk36kqrcm5tpkSscD4QXXfCleE6QHy8aa8IzO7Md7TbKHClacr0I\n",
              "RYUB6nPsL/Yp46kn3YHDNbJhdUU/Y1hyh1FnVh01vac6EM5aprGOUZPX3xJdgU8jejefDjgjTjiZ\n",
              "eTDYC1o5lwKfjgaK8xnpAAAAe0GfqkUVLDP/ACWxUomqyi8eQgOpHOv08WWysK3L/Mn7P9KoPpyT\n",
              "9YyeTqKH+63JaDTxxiKa1O7Pri6DbFwpJm6wrtBCPVvuPI9DVS7MAFbvjiCYp3NioMthfDtx+vbf\n",
              "akPhAL7NwqHj6aEmQY+blRR3coA1YimBnaOLKQAAAGQBn8l0Qr8ARVzqPqJVcT3r1zACoafk8vVV\n",
              "LeMOHsqbvNL4Xg9MqYUdx3l5+EJjwPjQjNDUyS4hHJpOfqzP3DJiKjp38oIuLZryWF9Atina/PmN\n",
              "Q3m5GTa4wyhU5kBl7is7GC2gAAAAYQGfy2pCvwBDXqFaSGnb1BzwAAaW+IvnaGxkRzZo+9gTBzXS\n",
              "5hcQifODMPiTBL92dLnls0sv+HLXQcxit23GPHlP0LXdvqDfVjMBfnUn0/9qqMt+8wCeP7ugA+cj\n",
              "Ic5/RiwAAAIUQZvQSahBbJlMCH///qmWACpqT93zcAGW67QYkPBEG03DlJgY+5pl533zLqL0Ze+o\n",
              "zChD1qJoY/p3R7BmiwdEjrLwMLJWKlAkPV7eW/RvbDFQYi7rbu/d+g51K2/9D8mQbeSEyazF0wRE\n",
              "N5VzyhZj5e9C+8RCCbOs/FZ64tyALKnunazGy0MRzZ3wIwGqh2TvfFueU0OL7QvGBVqLVLt9vQ31\n",
              "gYSl8OfgXb5RPWZHepG0N4wsAvH1zhTcH61G5TuxCxIjr+ZEY6Q/ZZ2bq1HXmg7/PNP4Wh5szXAy\n",
              "VUEqi+9U73y+lRdaxJgrjnruCuPIKSJlI42qfg17R8AVCeY/rwe8AcKFQrP2zdgq3kUH75WVFqpl\n",
              "9c6deh4wStC3ufmPvzYRblrcUpfS3HpxRV43SRiYvU3i0UP1h8loBpZKE+bkC0U5cVwBZIsyaJVL\n",
              "br/LIrmWb2t4yKrV1mn9eYFrTgkrem9fNz4SesUzBE6ZHf1q5Rnm2nI/65VRRAnOFOz9DRf23veO\n",
              "OjsINKjgbaBY3JmwfAEJDXvoOGdIX3gSgrklaqA4qhmU2F5NaTOigqYGB9phtj2u4kx55+pXSr0R\n",
              "HtVbn5uEsIttuMMtAJctU/CRkEnI5/D6dFm2YN3wGu2o88o80ZiHQ4mUF1mMX6Nl0fUCDCMoQ9sV\n",
              "ENDuG3WmXVLcmGi90LkNur77Y0WfeSxnmZ3bKQAAAIhBn+5FFSwz/wAkr3buEfBQIo6Di7gybDda\n",
              "+CoMm9+gNg//Aoq9MYb6m1qAHezJng+NMAJWEXhc25/KfolYnkErj7K0CskPTQReSnBPU7TTgBWL\n",
              "VBIsL0I7UHMSfqI3O2RSoVHhpgOAjvrw14G4btU1Fg1D8lSY3yrYxGrbEZRCicZ2sbwF2MF7AAAA\n",
              "VQGeDXRCvwBDd2cJCOqUlc4QvACqB7O4it0gFg88qzzzir1/+N+FCLdVNP4FRcj37po16lq2Gh2E\n",
              "d0ERJWzLct7HCx+TgedEbQTTczZ9ThSDtXwWBZUAAABZAZ4PakK/AENe1tzjsHZHcH6ABpIa1gt9\n",
              "odT6bEi4vUjsMMa5ItWnG5WGh2YCcVlQ4Twl9J48ikZlDyu85flfjPfOoJ96pElho6y01tcCTpOA\n",
              "fYdoEbmgGrAAAAHCQZoUSahBbJlMCH///qmWACqfMqaJ5yRGvBWLsCLwCkANJ9r3ee4v9jHsCnuM\n",
              "6VRc8LkgOpAenRwI5jCFLorg3ncDysk9mq1zRSh/2EFBqG2yw1dYLJObFo2eECMfR2zaWc0D98Vu\n",
              "UNgWPXyBDTZtTJ8qjHIy78qQEvrrIWyL2Zu1LAVIsGSxN48HejIU96nt0s530wQa9oK7/rMbjUoI\n",
              "2R7akhxNPHLViULC2kT9/xKq+WogxRGP8mUgda7wC09qY0IrpPnT5oX72jIKEB3lIKCTNfq+rVa2\n",
              "1rRxFk8j8r2Y2n6dxjesP4MwmdnfZwM24UfbewC2RFbHbPSDf0OhSbAZ+tuflsu5Il18jEzUB5R7\n",
              "ku7QS//9bnB13L5f1vxyTU+EpRh0jzMuBw2Blf26izg7kwiGWm3ENcRBnOMrisrQENAHpCvPwQcw\n",
              "oBrSYXlQYjdG2Ud9+esHveRAZZm1XvjWESNfosUfzN/7S5s3Tc8sG4su/7E7ArneHs01wwMYufx1\n",
              "CPAm9b4pjp1N4KZVA3/uRlR3Ez0SzeNRUh88hF9YC79bEBeblgVZxoqGxvsuZnrJoNN9V3W/xPMn\n",
              "dp4MhWLuAAAAjUGeMkUVLDP/ACSxV0HFi4UnG4VlX+GzU1piQj72R8pU/6cZY77NV0WkqT10R5WZ\n",
              "k8UGiAGgFMlyxTLOhrcYAANt9ZLPEuSdu0pHbJJOZo6xai4u7V07ZinqsRIsZkh6j1NlKqL0ohym\n",
              "3PBtZTZ4u8KgDXt0KKlHjqOKD4LLFVrtqIM6CvVslIOIKoBHwQAAAFcBnlF0Qr8AQ1zqXPVDfwgA\n",
              "aRgGjXFII4Q1ES2Em6V+Ea4fJJQiFABabee/fV2MLa24AhKXdF2wvxuRYimqvjtuKBdeeDsnyUJq\n",
              "bKaIVpCeNvmWb8qsKzAAAABiAZ5TakK/AEFzpWmYfoRdHbW+gndK7/OgrXxPPgBn+gMyRkkl2wxz\n",
              "0r6vs5FmWSGtt5NREej5XRGlLfBruAL2e6aHFUBEmqAU47ROsc3muU5JeihzoYR3epCLrYHI4xIJ\n",
              "g4AAAAHPQZpYSahBbJlMCHf//qmWAClAiqUDAAU03iBmnGhjNqcG3jRu2S57V1o11X15y/eH0uOt\n",
              "577rW9QzA0DxLIFHceorf2Sgq06jDwJmDB8NK25mSuDxwbOh4f/bOwDMjTNV+Y0b14tUTppgerwg\n",
              "vhTIVgzv9SVD+dfxb0kxqsDO3F827EeJKp6yV0Ez9BNgcDWYXQ3QfbwHiKvl1TOeLvtmDpZWiFfl\n",
              "qI2SCeo38rBW4yXa/E/GYgEGdLaDodQlEjs6hFcWgRlxvWKUn66mjcfrOYKHj/1O6lL3flTu+NZE\n",
              "Y1A+0Xe8Tz4l4FMns2Iq8/X9h8Jub95+Wl7UH7Twv7wrDy6knA2p69kmnrWNIAmi7Z4T4KVZ/wlW\n",
              "+/fAT8TZNFtvdVUhEoyZ3uZmAj1D6Bhzx8YQxPaCROTyqA4rs6DELx76hO/w9z8TSbQOgH2miIPl\n",
              "gPEKWG1P3Ada6gc1TRvue/S+N4el2vxV+gleIr/BWfY0YiL5GI6+E7Btn/ZqmY/f8V7rTBfO+C4e\n",
              "Ly1TH2zKcuNC3TUep7JL8vvZnLkvZugEKFbX1Y6djPCV9CkstWHB5tN2JINrhT7cyNj1xSeVSpi/\n",
              "4hcsxVjv9V/Mn2i2BQAAAH9BnnZFFSwz/wAjPJSRuqdNpM1IANB6LwSJNXjbWwhxYdSXNm5Jsc7+\n",
              "YbrGQ+ecEpqCK53FASlUHOmWfx9KTpHqhHq1ssuDAOJ/nTwIjisYUlm6Cdt2fb//hTrjZG2xGvSf\n",
              "pUK21a3XGaNpEyCo4vROlBRfOkVxy78KMT4DwBswAAAAWQGelXRCvwBBd9miyK6zwMEAD+wgPMqj\n",
              "OpqZsukqtR3qkFcMgx6bcWBWtKkEc5krPlm7FhdlbzQrYcf2hyUtSlDgmGua29WA63mDk6qq5K6t\n",
              "ZqJuQbN1AJuBAAAAUgGel2pCvwBBc6TyfPOV4UtxKl/717n2CG/N3nu1a1hVFfbC+Ei6J7cyFDMX\n",
              "/ePwrahem7pAn46rrajqe9FvkT71pRUIkw7itSk/L9SSfBEQDekAAAG0QZqcSahBbJlMCHf//qmW\n",
              "ACk6VDXvVyp1278AN2tmOiJEARhJX1lfD7J+JgsTbfj6WsV+/YNoHApkNCGf6tnlgOZGucHwyU6V\n",
              "yqP67zCuNDmvbgF9ef6JjqnqgOXDm2JXZZDXGlR1uMEmJRXDsYrG2Wwm4Hzl8TD63TM71p7cUTW3\n",
              "s4kGwaAJbsoLAmut/VBbS4hP7Obeolp8j+nmUkZNF/Q5FffDYPlsm2UKV1iXTeyHAm13BHcOB/Hv\n",
              "GUqoggWUJtwxdxC6rOlPqVfpgBYzKm1tei7s47nS2Krr7SJQWfuakHBZhUeOPa8/Io/Q+rytNxcS\n",
              "Le01fkwDzOjW3FpnvtDf87uP6RX6HB1IqB760AouRyNZEonfkPxBiDp9AqPZq1Y+DOfQuORwC8iz\n",
              "fdXfd71xI+xNUN6qoc4ZW6kFWZrmnpvHWrso9FGo4a9rWWiUto3rVNoBk1lvVbhCcF5ARyIYfA0Q\n",
              "KU5Hgk+g8mvoOD3IzxqgdsnPsVsNiI4OmyOtn7uij8Gmcl3B+fibmsQAo3hfmljpz/4Dkvch3fV8\n",
              "R6qNURFeMvJ0tW/MFTG6zfeHSMqJvQAAAJFBnrpFFSwz/wAjuptls92DWbQJQSmbobwtj05IAhGp\n",
              "58ALVhiUPI4HzlcbcRPpsvF/bWvImgvvJnJZk8Ku16+MlckZZLlTiFw1omEK3oIKHSQgrtDYLGVg\n",
              "bVpTfhq+x1vB5Bs8mC07kfKNUrcqUSn3SLg1ZGonZ3hVteut2TgMWQ9Rabr6QqJQNJl5Ek7RlF5B\n",
              "AAAAYQGe2XRCvwBBWlSa2ovBJrV3ppGFj80ydhwJPV8OAFRv2b6rrTHJH0KbcPGQRQ1knIro8hxV\n",
              "mK9S0fzVztZ7Jvc8/bb4IhhaIzZmTMjxtRDSIe48+AcCJ74S5mDkiQ+IDegAAABNAZ7bakK/AEFk\n",
              "IQ53Qmz2ZFr09Hvg/LZIaLVSfHLotEMYyVIp+SX61QArehJSYbi8LSLnUNvTl0nyrXskGfHyrM5L\n",
              "dfoza+q0ASpeAu8AAAEtQZrASahBbJlMCG///qeEAE9xBt5QcltZ40Su6kgA/6nhA9900cRTtvfL\n",
              "MH9UgNDnJB3KhoyeJl8sc3sA/MZMo0W1mDo5waBB/Hq/zoiDnLXhDVchhVxsUQRXC4zOcstM3ln6\n",
              "M1u2TP6IGu9x3ntHFpr0Cl3kFLAx01k3p9uT4S8Z3d9DrolMyuhNx43Uknc7ELOOoEbKk1QrunYl\n",
              "T0/1i4f9YTFmOXx1H1eYhwW1og/TyG1LHv9YZEjLc6LjBt7sZ0OHYLo94brg26rZIHG0n2/re/MB\n",
              "wDPe2IellFLpEKWcR1qODsSuYiF8PV7E/rE6StKsF6Pff6nHGH/zQfGmvb5IZzH/4M5U2RiFbxdH\n",
              "b+oDpvlKEQImXmDXewGY8aWOVBEup0h01/7tKEiDgQAAAJNBnv5FFSwz/wAir1AK5XYWrlzVCf3D\n",
              "Pbj9pYjTtJ28oALiID2K8nbMvjbzanFUKWm4biuEjwKXtTUPdtXLEzMypp8zyGlA3kXQ0XULvY7w\n",
              "+yOlZy7/8TysJlH32ZTHiYeUkuti3NUvnS8DiyIDLLSiAAR3OTBeSyYlwZofzq9IWYEs6Qn8mXE+\n",
              "oBLL10spsMzAN6AAAABJAZ8ddEK/AD+OA+2CX6Ew/zKb63xD0zCR4yykxlXAP/5hRN7wABsCA02R\n",
              "DmgVt5YCz7iPLxaG6MQZ2Oads1BjcrLgVn4oDgIccAAAAE4Bnx9qQr8AP3157fvUVk4JfzRz7FAz\n",
              "w5b8np2pthJ0Lqk4ZE+dyBRejsXm7ulj1IpuUCBHuObhcZQSDxLRluRe0ah4IJgKBjpwOApwYk8A\n",
              "AADWQZsDSahBbJlMCFf//jhABLPLF5TV7T9s4Ktko36Q7TQARAC0Cxcj6LoQW42Q7KGbJFYg74bL\n",
              "lL2Ivq2mmWqFvh4JsHAKU94nQkX6484FSAC3cLsUkzSsO49HGFzYsxUdC+lCmPENp8TRyAiIH6KI\n",
              "fu9m7K6fdWw2ZOXzx3ln3S4w5JESZQCNxZUy80T4qPs91L18xqZpVlyrSHN7cDsLjEWLc5TOnV20\n",
              "Ky1rcdRYRzfg40pcrX/0Px4LTRe2wzaHdbl869saud50ykcgH6PgmDv9m+xhwAAAAHFBnyFFFSwv\n",
              "/wAvvgoac3jKu/Sp4p4sC5zqGHTyRIBABG5wUA561o6UZmWsOI08H/3qCUrqQ1JcaUbZJdEjikgi\n",
              "ndo9hkVx2Qk8htUfDTatHFYk23NCnFwaUuRzRqJB7VWxqK++uVFFWwJCH/bWm2rXwQAAAFIBn0Jq\n",
              "Qr8AP315MpavhA/RpSaoJvpy6hD/PSX1n9zrcfW3Xn6bm2YHPQM0LlMQ1TWxs+jBvIau1F5qU/Un\n",
              "lu1TpFFBxTZpUAfB2l7LwGsKvdJwAAAHh21vb3YAAABsbXZoZAAAAAAAAAAAAAAAAAAAA+gAABOI\n",
              "AAEAAAEAAAAAAAAAAAAAAAABAAAAAAAAAAAAAAAAAAAAAQAAAAAAAAAAAAAAAAAAQAAAAAAAAAAA\n",
              "AAAAAAAAAAAAAAAAAAAAAAAAAAAAAAIAAAaxdHJhawAAAFx0a2hkAAAAAwAAAAAAAAAAAAAAAQAA\n",
              "AAAAABOIAAAAAAAAAAAAAAAAAAAAAAABAAAAAAAAAAAAAAAAAAAAAQAAAAAAAAAAAAAAAAAAQAAA\n",
              "AALQAAABaAAAAAAAJGVkdHMAAAAcZWxzdAAAAAAAAAABAAATiAAABAAAAQAAAAAGKW1kaWEAAAAg\n",
              "bWRoZAAAAAAAAAAAAAAAAAAAKAAAAMgAVcQAAAAAAC1oZGxyAAAAAAAAAAB2aWRlAAAAAAAAAAAA\n",
              "AAAAVmlkZW9IYW5kbGVyAAAABdRtaW5mAAAAFHZtaGQAAAABAAAAAAAAAAAAAAAkZGluZgAAABxk\n",
              "cmVmAAAAAAAAAAEAAAAMdXJsIAAAAAEAAAWUc3RibAAAALRzdHNkAAAAAAAAAAEAAACkYXZjMQAA\n",
              "AAAAAAABAAAAAAAAAAAAAAAAAAAAAALQAWgASAAAAEgAAAAAAAAAAQAAAAAAAAAAAAAAAAAAAAAA\n",
              "AAAAAAAAAAAAAAAAAAAAABj//wAAADJhdmNDAWQAHv/hABlnZAAerNlAtC/5YQAAAwABAAADACgP\n",
              "Fi2WAQAGaOvjyyLAAAAAHHV1aWRraEDyXyRPxbo5pRvPAyPzAAAAAAAAABhzdHRzAAAAAAAAAAEA\n",
              "AABkAAACAAAAABRzdHNzAAAAAAAAAAEAAAABAAAC2GN0dHMAAAAAAAAAWQAAAAEAAAQAAAAAAQAA\n",
              "BgAAAAABAAACAAAAAAEAAAYAAAAAAQAAAgAAAAABAAAGAAAAAAEAAAIAAAAAAwAABAAAAAABAAAI\n",
              "AAAAAAIAAAIAAAAAAQAACAAAAAACAAACAAAAAAEAAAgAAAAAAgAAAgAAAAABAAAGAAAAAAEAAAIA\n",
              "AAAAAQAABgAAAAABAAACAAAAAAEAAAQAAAAAAQAACgAAAAABAAAEAAAAAAEAAAAAAAAAAQAAAgAA\n",
              "AAABAAAGAAAAAAEAAAIAAAAAAQAACAAAAAACAAACAAAAAAEAAAYAAAAAAQAAAgAAAAABAAAGAAAA\n",
              "AAEAAAIAAAAAAQAABAAAAAABAAAIAAAAAAIAAAIAAAAAAQAABgAAAAABAAACAAAAAAEAAAYAAAAA\n",
              "AQAAAgAAAAACAAAEAAAAAAEAAAgAAAAAAgAAAgAAAAABAAAIAAAAAAIAAAIAAAAAAQAABgAAAAAB\n",
              "AAACAAAAAAEAAAYAAAAAAQAAAgAAAAABAAAGAAAAAAEAAAIAAAAAAQAABgAAAAABAAACAAAAAAEA\n",
              "AAoAAAAAAQAABAAAAAABAAAAAAAAAAEAAAIAAAAAAQAACgAAAAABAAAEAAAAAAEAAAAAAAAAAQAA\n",
              "AgAAAAABAAAKAAAAAAEAAAQAAAAAAQAAAAAAAAABAAACAAAAAAEAAAoAAAAAAQAABAAAAAABAAAA\n",
              "AAAAAAEAAAIAAAAAAQAACgAAAAABAAAEAAAAAAEAAAAAAAAAAQAAAgAAAAABAAAKAAAAAAEAAAQA\n",
              "AAAAAQAAAAAAAAABAAACAAAAAAEAAAoAAAAAAQAABAAAAAABAAAAAAAAAAEAAAIAAAAAAQAACgAA\n",
              "AAABAAAEAAAAAAEAAAAAAAAAAQAAAgAAAAABAAAKAAAAAAEAAAQAAAAAAQAAAAAAAAABAAACAAAA\n",
              "AAEAAAgAAAAAAgAAAgAAAAAcc3RzYwAAAAAAAAABAAAAAQAAAGQAAAABAAABpHN0c3oAAAAAAAAA\n",
              "AAAAAGQAACJhAAAB9AAAAHwAAAGDAAAAcAAAAaIAAABeAAABZQAAAaoAAAG+AAACMAAAAKoAAACY\n",
              "AAAClAAAAKAAAAByAAAC+AAAAJ8AAABsAAACXQAAAIEAAAJiAAAAdQAAAgwAAALLAAAA3gAAAGkA\n",
              "AAB/AAACMAAAAIgAAAJaAAAAhwAAAIEAAAIXAAAAkgAAAj0AAACOAAABhAAAAgYAAACTAAAAggAA\n",
              "Af8AAABnAAACKgAAAHsAAAG5AAACKQAAApsAAACuAAAAmwAAAoEAAAC5AAAArAAAArEAAACJAAAC\n",
              "pAAAAJcAAAKWAAAAowAAAngAAACJAAADFQAAAMYAAAB/AAAAdgAAAs8AAACbAAAAcQAAAHAAAALL\n",
              "AAAAngAAAHQAAABqAAACowAAAH8AAABoAAAAZQAAAhgAAACMAAAAWQAAAF0AAAHGAAAAkQAAAFsA\n",
              "AABmAAAB0wAAAIMAAABdAAAAVgAAAbgAAACVAAAAZQAAAFEAAAExAAAAlwAAAE0AAABSAAAA2gAA\n",
              "AHUAAABWAAAAFHN0Y28AAAAAAAAAAQAAACwAAABidWR0YQAAAFptZXRhAAAAAAAAACFoZGxyAAAA\n",
              "AAAAAABtZGlyYXBwbAAAAAAAAAAAAAAAAC1pbHN0AAAAJal0b28AAAAdZGF0YQAAAAEAAAAATGF2\n",
              "ZjU3LjgzLjEwMA==\n",
              "\">\n",
              "  Your browser does not support the video tag.\n",
              "</video>"
            ],
            "text/plain": [
              "<IPython.core.display.HTML object>"
            ]
          },
          "metadata": {
            "tags": []
          },
          "execution_count": 176
        },
        {
          "output_type": "display_data",
          "data": {
            "image/png": "[encoded data removed]",
            "text/plain": [
              "<Figure size 720x360 with 1 Axes>"
            ]
          },
          "metadata": {
            "tags": [],
            "needs_background": "light"
          }
        }
      ]
    },
    {
      "cell_type": "markdown",
      "metadata": {
        "id": "u12mz3dYaTBG",
        "colab_type": "text"
      },
      "source": [
        ""
      ]
    }
  ]
}